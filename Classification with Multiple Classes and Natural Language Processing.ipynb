{
 "cells": [
  {
   "cell_type": "code",
   "execution_count": 1,
   "metadata": {
    "id": "JeNX72BfDXC9"
   },
   "outputs": [],
   "source": [
    "%matplotlib inline\n",
    "%config InlineBackend.figure_format = 'retina'\n",
    "import matplotlib as mpl\n",
    "mpl.rcParams['figure.dpi'] = 150\n",
    "import matplotlib.pyplot as plt\n",
    "import warnings\n",
    "warnings.simplefilter(action='ignore')"
   ]
  },
  {
   "cell_type": "code",
   "execution_count": 2,
   "metadata": {
    "id": "f4R86y2kElga"
   },
   "outputs": [],
   "source": [
    "import pandas as pd\n",
    "import numpy as np\n",
    "import re\n",
    "from sklearn.feature_extraction.text import TfidfVectorizer\n",
    "from sklearn.model_selection import StratifiedKFold\n",
    "from tqdm import tqdm"
   ]
  },
  {
   "cell_type": "code",
   "execution_count": 3,
   "metadata": {
    "id": "vBIq3Ij5EnlO"
   },
   "outputs": [],
   "source": [
    "from sklearn.linear_model import LogisticRegression\n",
    "from sklearn.metrics import confusion_matrix, classification_report, roc_auc_score, roc_curve, accuracy_score"
   ]
  },
  {
   "cell_type": "code",
   "execution_count": 68,
   "metadata": {
    "id": "8blqlKk6Epgl"
   },
   "outputs": [],
   "source": [
    "data = pd.read_csv('drive/MyDrive/DATA_310/Project4_Data.csv')"
   ]
  },
  {
   "cell_type": "code",
   "execution_count": 69,
   "metadata": {
    "colab": {
     "base_uri": "https://localhost:8080/",
     "height": 520
    },
    "id": "ZT_WSwR2FUaT",
    "outputId": "e0d9c1e3-dc8f-47ea-dc0e-796beff7a361"
   },
   "outputs": [
    {
     "data": {
      "text/html": [
       "\n",
       "  <div id=\"df-1a7395c6-11e4-421c-9b7a-073259cbadd2\">\n",
       "    <div class=\"colab-df-container\">\n",
       "      <div>\n",
       "<style scoped>\n",
       "    .dataframe tbody tr th:only-of-type {\n",
       "        vertical-align: middle;\n",
       "    }\n",
       "\n",
       "    .dataframe tbody tr th {\n",
       "        vertical-align: top;\n",
       "    }\n",
       "\n",
       "    .dataframe thead th {\n",
       "        text-align: right;\n",
       "    }\n",
       "</style>\n",
       "<table border=\"1\" class=\"dataframe\">\n",
       "  <thead>\n",
       "    <tr style=\"text-align: right;\">\n",
       "      <th></th>\n",
       "      <th>Col1</th>\n",
       "      <th>Col2</th>\n",
       "      <th>Col3</th>\n",
       "      <th>Col4</th>\n",
       "      <th>Col5</th>\n",
       "      <th>Col6</th>\n",
       "      <th>Col7</th>\n",
       "      <th>ClassificationLabel</th>\n",
       "    </tr>\n",
       "  </thead>\n",
       "  <tbody>\n",
       "    <tr>\n",
       "      <th>0</th>\n",
       "      <td>Word1 Word2 Word3 Word4 Word5</td>\n",
       "      <td>44912133</td>\n",
       "      <td>3,575.00</td>\n",
       "      <td>Word771 Word772</td>\n",
       "      <td>8/31/2018</td>\n",
       "      <td>Word560 Word561 Word366 Word562</td>\n",
       "      <td>Doc1</td>\n",
       "      <td>Category_1</td>\n",
       "    </tr>\n",
       "    <tr>\n",
       "      <th>1</th>\n",
       "      <td>Word6 Word7</td>\n",
       "      <td>10719</td>\n",
       "      <td>1,092.50</td>\n",
       "      <td>Word711 Word773 Word774</td>\n",
       "      <td>8/31/2018</td>\n",
       "      <td>Word563 Word366 Word562</td>\n",
       "      <td>NoDoc</td>\n",
       "      <td>Category_2</td>\n",
       "    </tr>\n",
       "    <tr>\n",
       "      <th>2</th>\n",
       "      <td>Word8 Word9 Word10 Word11 Word5</td>\n",
       "      <td>4.80Z+11</td>\n",
       "      <td>75</td>\n",
       "      <td>Word775 Word776</td>\n",
       "      <td>10/31/2018</td>\n",
       "      <td>Word563 Word564 Word9 Word26</td>\n",
       "      <td>NoDoc</td>\n",
       "      <td>Category_1</td>\n",
       "    </tr>\n",
       "    <tr>\n",
       "      <th>3</th>\n",
       "      <td>Word12 Word13 Word7</td>\n",
       "      <td>10731</td>\n",
       "      <td>30,980.00</td>\n",
       "      <td>Word777 Word45 Word160 Word45 Word778</td>\n",
       "      <td>1/1/2018</td>\n",
       "      <td>Word565 Word566</td>\n",
       "      <td>NoDoc</td>\n",
       "      <td>Category_1</td>\n",
       "    </tr>\n",
       "    <tr>\n",
       "      <th>4</th>\n",
       "      <td>Word8 Word9 Word10 Word11 Word5</td>\n",
       "      <td>4.80F+11</td>\n",
       "      <td>3,766.80</td>\n",
       "      <td>Word779 Word258 Word780</td>\n",
       "      <td>1/1/2018</td>\n",
       "      <td>Word567 Word568 Word569 Word570</td>\n",
       "      <td>Doc1</td>\n",
       "      <td>Category_1</td>\n",
       "    </tr>\n",
       "    <tr>\n",
       "      <th>...</th>\n",
       "      <td>...</td>\n",
       "      <td>...</td>\n",
       "      <td>...</td>\n",
       "      <td>...</td>\n",
       "      <td>...</td>\n",
       "      <td>...</td>\n",
       "      <td>...</td>\n",
       "      <td>...</td>\n",
       "    </tr>\n",
       "    <tr>\n",
       "      <th>5894</th>\n",
       "      <td>Word177 Word178 Word147 Word7</td>\n",
       "      <td>180LSY</td>\n",
       "      <td>16,880.00</td>\n",
       "      <td>Word2127 Word705 Word825</td>\n",
       "      <td>3/1/2018</td>\n",
       "      <td>Word576 Word366 Word562</td>\n",
       "      <td>Doc3</td>\n",
       "      <td>Category_1</td>\n",
       "    </tr>\n",
       "    <tr>\n",
       "      <th>5895</th>\n",
       "      <td>Word16 Word17 Word18 Word7</td>\n",
       "      <td>BL398</td>\n",
       "      <td>4,200.00</td>\n",
       "      <td>Word785 Word330 Word99 Word26</td>\n",
       "      <td>6/30/2018</td>\n",
       "      <td>Word563 Word564 Word9 Word26</td>\n",
       "      <td>NoDoc</td>\n",
       "      <td>Category_1</td>\n",
       "    </tr>\n",
       "    <tr>\n",
       "      <th>5896</th>\n",
       "      <td>Word212 Word213 Word214 Word125 Word119 Word39</td>\n",
       "      <td>74211</td>\n",
       "      <td>170</td>\n",
       "      <td>Word1018 Word190 Word1403</td>\n",
       "      <td>1/1/2018</td>\n",
       "      <td>Word563 Word608 Word609</td>\n",
       "      <td>NoDoc</td>\n",
       "      <td>Category_2</td>\n",
       "    </tr>\n",
       "    <tr>\n",
       "      <th>5897</th>\n",
       "      <td>Word148 Word75 Word5</td>\n",
       "      <td>11695</td>\n",
       "      <td>14,376.00</td>\n",
       "      <td>Word846 Word991</td>\n",
       "      <td>4/1/2018</td>\n",
       "      <td>Word560 Word561 Word315 Word638</td>\n",
       "      <td>Doc1</td>\n",
       "      <td>Category_1</td>\n",
       "    </tr>\n",
       "    <tr>\n",
       "      <th>5898</th>\n",
       "      <td>Word40 Word41 Word4 Word5</td>\n",
       "      <td>1868</td>\n",
       "      <td>1,820.00</td>\n",
       "      <td>Word802 Word278 Word1242 Word803</td>\n",
       "      <td>7/31/2018</td>\n",
       "      <td>Word567 Word582 Word580 Word202 Word545</td>\n",
       "      <td>Doc1</td>\n",
       "      <td>Category_1</td>\n",
       "    </tr>\n",
       "  </tbody>\n",
       "</table>\n",
       "<p>5899 rows × 8 columns</p>\n",
       "</div>\n",
       "      <button class=\"colab-df-convert\" onclick=\"convertToInteractive('df-1a7395c6-11e4-421c-9b7a-073259cbadd2')\"\n",
       "              title=\"Convert this dataframe to an interactive table.\"\n",
       "              style=\"display:none;\">\n",
       "        \n",
       "  <svg xmlns=\"http://www.w3.org/2000/svg\" height=\"24px\"viewBox=\"0 0 24 24\"\n",
       "       width=\"24px\">\n",
       "    <path d=\"M0 0h24v24H0V0z\" fill=\"none\"/>\n",
       "    <path d=\"M18.56 5.44l.94 2.06.94-2.06 2.06-.94-2.06-.94-.94-2.06-.94 2.06-2.06.94zm-11 1L8.5 8.5l.94-2.06 2.06-.94-2.06-.94L8.5 2.5l-.94 2.06-2.06.94zm10 10l.94 2.06.94-2.06 2.06-.94-2.06-.94-.94-2.06-.94 2.06-2.06.94z\"/><path d=\"M17.41 7.96l-1.37-1.37c-.4-.4-.92-.59-1.43-.59-.52 0-1.04.2-1.43.59L10.3 9.45l-7.72 7.72c-.78.78-.78 2.05 0 2.83L4 21.41c.39.39.9.59 1.41.59.51 0 1.02-.2 1.41-.59l7.78-7.78 2.81-2.81c.8-.78.8-2.07 0-2.86zM5.41 20L4 18.59l7.72-7.72 1.47 1.35L5.41 20z\"/>\n",
       "  </svg>\n",
       "      </button>\n",
       "      \n",
       "  <style>\n",
       "    .colab-df-container {\n",
       "      display:flex;\n",
       "      flex-wrap:wrap;\n",
       "      gap: 12px;\n",
       "    }\n",
       "\n",
       "    .colab-df-convert {\n",
       "      background-color: #E8F0FE;\n",
       "      border: none;\n",
       "      border-radius: 50%;\n",
       "      cursor: pointer;\n",
       "      display: none;\n",
       "      fill: #1967D2;\n",
       "      height: 32px;\n",
       "      padding: 0 0 0 0;\n",
       "      width: 32px;\n",
       "    }\n",
       "\n",
       "    .colab-df-convert:hover {\n",
       "      background-color: #E2EBFA;\n",
       "      box-shadow: 0px 1px 2px rgba(60, 64, 67, 0.3), 0px 1px 3px 1px rgba(60, 64, 67, 0.15);\n",
       "      fill: #174EA6;\n",
       "    }\n",
       "\n",
       "    [theme=dark] .colab-df-convert {\n",
       "      background-color: #3B4455;\n",
       "      fill: #D2E3FC;\n",
       "    }\n",
       "\n",
       "    [theme=dark] .colab-df-convert:hover {\n",
       "      background-color: #434B5C;\n",
       "      box-shadow: 0px 1px 3px 1px rgba(0, 0, 0, 0.15);\n",
       "      filter: drop-shadow(0px 1px 2px rgba(0, 0, 0, 0.3));\n",
       "      fill: #FFFFFF;\n",
       "    }\n",
       "  </style>\n",
       "\n",
       "      <script>\n",
       "        const buttonEl =\n",
       "          document.querySelector('#df-1a7395c6-11e4-421c-9b7a-073259cbadd2 button.colab-df-convert');\n",
       "        buttonEl.style.display =\n",
       "          google.colab.kernel.accessAllowed ? 'block' : 'none';\n",
       "\n",
       "        async function convertToInteractive(key) {\n",
       "          const element = document.querySelector('#df-1a7395c6-11e4-421c-9b7a-073259cbadd2');\n",
       "          const dataTable =\n",
       "            await google.colab.kernel.invokeFunction('convertToInteractive',\n",
       "                                                     [key], {});\n",
       "          if (!dataTable) return;\n",
       "\n",
       "          const docLinkHtml = 'Like what you see? Visit the ' +\n",
       "            '<a target=\"_blank\" href=https://colab.research.google.com/notebooks/data_table.ipynb>data table notebook</a>'\n",
       "            + ' to learn more about interactive tables.';\n",
       "          element.innerHTML = '';\n",
       "          dataTable['output_type'] = 'display_data';\n",
       "          await google.colab.output.renderOutput(dataTable, element);\n",
       "          const docLink = document.createElement('div');\n",
       "          docLink.innerHTML = docLinkHtml;\n",
       "          element.appendChild(docLink);\n",
       "        }\n",
       "      </script>\n",
       "    </div>\n",
       "  </div>\n",
       "  "
      ],
      "text/plain": [
       "                                                Col1      Col2       Col3  \\\n",
       "0                      Word1 Word2 Word3 Word4 Word5  44912133   3,575.00   \n",
       "1                                        Word6 Word7     10719   1,092.50   \n",
       "2                    Word8 Word9 Word10 Word11 Word5  4.80Z+11         75   \n",
       "3                                Word12 Word13 Word7     10731  30,980.00   \n",
       "4                    Word8 Word9 Word10 Word11 Word5  4.80F+11   3,766.80   \n",
       "...                                              ...       ...        ...   \n",
       "5894                   Word177 Word178 Word147 Word7    180LSY  16,880.00   \n",
       "5895                      Word16 Word17 Word18 Word7     BL398   4,200.00   \n",
       "5896  Word212 Word213 Word214 Word125 Word119 Word39     74211        170   \n",
       "5897                            Word148 Word75 Word5     11695  14,376.00   \n",
       "5898                       Word40 Word41 Word4 Word5      1868   1,820.00   \n",
       "\n",
       "                                       Col4        Col5  \\\n",
       "0                           Word771 Word772   8/31/2018   \n",
       "1                   Word711 Word773 Word774   8/31/2018   \n",
       "2                           Word775 Word776  10/31/2018   \n",
       "3     Word777 Word45 Word160 Word45 Word778    1/1/2018   \n",
       "4                   Word779 Word258 Word780    1/1/2018   \n",
       "...                                     ...         ...   \n",
       "5894               Word2127 Word705 Word825    3/1/2018   \n",
       "5895          Word785 Word330 Word99 Word26   6/30/2018   \n",
       "5896              Word1018 Word190 Word1403    1/1/2018   \n",
       "5897                        Word846 Word991    4/1/2018   \n",
       "5898       Word802 Word278 Word1242 Word803   7/31/2018   \n",
       "\n",
       "                                         Col6   Col7 ClassificationLabel  \n",
       "0             Word560 Word561 Word366 Word562   Doc1          Category_1  \n",
       "1                     Word563 Word366 Word562  NoDoc          Category_2  \n",
       "2                Word563 Word564 Word9 Word26  NoDoc          Category_1  \n",
       "3                             Word565 Word566  NoDoc          Category_1  \n",
       "4             Word567 Word568 Word569 Word570   Doc1          Category_1  \n",
       "...                                       ...    ...                 ...  \n",
       "5894                  Word576 Word366 Word562   Doc3          Category_1  \n",
       "5895             Word563 Word564 Word9 Word26  NoDoc          Category_1  \n",
       "5896                  Word563 Word608 Word609  NoDoc          Category_2  \n",
       "5897          Word560 Word561 Word315 Word638   Doc1          Category_1  \n",
       "5898  Word567 Word582 Word580 Word202 Word545   Doc1          Category_1  \n",
       "\n",
       "[5899 rows x 8 columns]"
      ]
     },
     "execution_count": 69,
     "metadata": {},
     "output_type": "execute_result"
    }
   ],
   "source": [
    "data"
   ]
  },
  {
   "cell_type": "markdown",
   "metadata": {
    "id": "W7l1XFCoFJly"
   },
   "source": [
    "Decide which columns have useful information for classification"
   ]
  },
  {
   "cell_type": "code",
   "execution_count": 6,
   "metadata": {
    "colab": {
     "base_uri": "https://localhost:8080/"
    },
    "id": "wWj-TFyLFc_C",
    "outputId": "fb710f6d-1967-4d29-87c4-8530dfddcf7a"
   },
   "outputs": [
    {
     "data": {
      "text/plain": [
       "4818"
      ]
     },
     "execution_count": 6,
     "metadata": {},
     "output_type": "execute_result"
    }
   ],
   "source": [
    "len(data.Col2.unique())"
   ]
  },
  {
   "cell_type": "code",
   "execution_count": 8,
   "metadata": {
    "colab": {
     "base_uri": "https://localhost:8080/"
    },
    "id": "FZcZCuTYIDom",
    "outputId": "2f0ae3a9-161c-4f9e-c8e3-edc3962e35f5"
   },
   "outputs": [
    {
     "data": {
      "text/plain": [
       "17"
      ]
     },
     "execution_count": 8,
     "metadata": {},
     "output_type": "execute_result"
    }
   ],
   "source": [
    "# check how many unique dates there are\n",
    "len(data.Col5.unique())"
   ]
  },
  {
   "cell_type": "markdown",
   "metadata": {
    "id": "36pC12XJITIt"
   },
   "source": [
    "Lets try with just the text (Columns 1, 4, and 6)"
   ]
  },
  {
   "cell_type": "code",
   "execution_count": 9,
   "metadata": {
    "colab": {
     "base_uri": "https://localhost:8080/"
    },
    "id": "sF5niplrR3zR",
    "outputId": "8facb286-bc2f-4d4f-ea09-21d8b084fbd3"
   },
   "outputs": [
    {
     "data": {
      "text/plain": [
       "array(['Category_1', 'Category_2', 'Category_3', 'Categry_6', 'Category4',\n",
       "       'Category_6', 'Category 5', 'category_1', 'Category 3',\n",
       "       'Category2', 'Category _3'], dtype=object)"
      ]
     },
     "execution_count": 9,
     "metadata": {},
     "output_type": "execute_result"
    }
   ],
   "source": [
    "data.ClassificationLabel.unique()"
   ]
  },
  {
   "cell_type": "code",
   "execution_count": 10,
   "metadata": {
    "id": "eSJKw8EBR_1D"
   },
   "outputs": [],
   "source": [
    "# so we should combine same categories that have different spelling/syntax\n",
    "Cat_1 = data[(data.ClassificationLabel == 'Category_1') | (data.ClassificationLabel == 'category_1')]"
   ]
  },
  {
   "cell_type": "code",
   "execution_count": 11,
   "metadata": {
    "id": "8_LiTTLgkCxt"
   },
   "outputs": [],
   "source": [
    "Cat_2 = data[(data.ClassificationLabel == 'Category_2') | (data.ClassificationLabel == 'Category2')]"
   ]
  },
  {
   "cell_type": "code",
   "execution_count": 12,
   "metadata": {
    "id": "ENukmn-5kCku"
   },
   "outputs": [],
   "source": [
    "Cat_3 = data[(data.ClassificationLabel == 'Category_3') | (data.ClassificationLabel == 'Category 3') | (data.ClassificationLabel == 'Category _3')]"
   ]
  },
  {
   "cell_type": "code",
   "execution_count": 13,
   "metadata": {
    "id": "kiYh_NvFkCbk"
   },
   "outputs": [],
   "source": [
    "Cat_4 = data[(data.ClassificationLabel == 'Category4')]"
   ]
  },
  {
   "cell_type": "code",
   "execution_count": 14,
   "metadata": {
    "id": "uKTH_tH0kMQ4"
   },
   "outputs": [],
   "source": [
    "Cat_5 = data[(data.ClassificationLabel == 'Category 5')]"
   ]
  },
  {
   "cell_type": "code",
   "execution_count": 15,
   "metadata": {
    "id": "k6JRhkWkkMCU"
   },
   "outputs": [],
   "source": [
    "Cat_6 = data[(data.ClassificationLabel == 'Categry_6') | (data.ClassificationLabel == 'Category_6')]"
   ]
  },
  {
   "cell_type": "markdown",
   "metadata": {
    "id": "6P6I81lDqjsr"
   },
   "source": [
    "Drop NaNs"
   ]
  },
  {
   "cell_type": "code",
   "execution_count": 16,
   "metadata": {
    "colab": {
     "base_uri": "https://localhost:8080/",
     "height": 467
    },
    "id": "RQy1luB7qozY",
    "outputId": "76c4ed45-9963-41d9-8bdc-cbf7733a585d"
   },
   "outputs": [
    {
     "data": {
      "text/html": [
       "\n",
       "  <div id=\"df-2b25e0f4-17c7-43c3-8411-46a2b751df43\">\n",
       "    <div class=\"colab-df-container\">\n",
       "      <div>\n",
       "<style scoped>\n",
       "    .dataframe tbody tr th:only-of-type {\n",
       "        vertical-align: middle;\n",
       "    }\n",
       "\n",
       "    .dataframe tbody tr th {\n",
       "        vertical-align: top;\n",
       "    }\n",
       "\n",
       "    .dataframe thead th {\n",
       "        text-align: right;\n",
       "    }\n",
       "</style>\n",
       "<table border=\"1\" class=\"dataframe\">\n",
       "  <thead>\n",
       "    <tr style=\"text-align: right;\">\n",
       "      <th></th>\n",
       "      <th>Col1</th>\n",
       "      <th>Col3</th>\n",
       "      <th>Col4</th>\n",
       "      <th>Col5</th>\n",
       "      <th>Col6</th>\n",
       "      <th>Col7</th>\n",
       "      <th>ClassificationLabel</th>\n",
       "    </tr>\n",
       "  </thead>\n",
       "  <tbody>\n",
       "    <tr>\n",
       "      <th>0</th>\n",
       "      <td>Word1 Word2 Word3 Word4 Word5</td>\n",
       "      <td>3,575.00</td>\n",
       "      <td>Word771 Word772</td>\n",
       "      <td>8/31/2018</td>\n",
       "      <td>Word560 Word561 Word366 Word562</td>\n",
       "      <td>Doc1</td>\n",
       "      <td>Category_1</td>\n",
       "    </tr>\n",
       "    <tr>\n",
       "      <th>1</th>\n",
       "      <td>Word6 Word7</td>\n",
       "      <td>1,092.50</td>\n",
       "      <td>Word711 Word773 Word774</td>\n",
       "      <td>8/31/2018</td>\n",
       "      <td>Word563 Word366 Word562</td>\n",
       "      <td>NoDoc</td>\n",
       "      <td>Category_2</td>\n",
       "    </tr>\n",
       "    <tr>\n",
       "      <th>2</th>\n",
       "      <td>Word8 Word9 Word10 Word11 Word5</td>\n",
       "      <td>75</td>\n",
       "      <td>Word775 Word776</td>\n",
       "      <td>10/31/2018</td>\n",
       "      <td>Word563 Word564 Word9 Word26</td>\n",
       "      <td>NoDoc</td>\n",
       "      <td>Category_1</td>\n",
       "    </tr>\n",
       "    <tr>\n",
       "      <th>3</th>\n",
       "      <td>Word12 Word13 Word7</td>\n",
       "      <td>30,980.00</td>\n",
       "      <td>Word777 Word45 Word160 Word45 Word778</td>\n",
       "      <td>1/1/2018</td>\n",
       "      <td>Word565 Word566</td>\n",
       "      <td>NoDoc</td>\n",
       "      <td>Category_1</td>\n",
       "    </tr>\n",
       "    <tr>\n",
       "      <th>4</th>\n",
       "      <td>Word8 Word9 Word10 Word11 Word5</td>\n",
       "      <td>3,766.80</td>\n",
       "      <td>Word779 Word258 Word780</td>\n",
       "      <td>1/1/2018</td>\n",
       "      <td>Word567 Word568 Word569 Word570</td>\n",
       "      <td>Doc1</td>\n",
       "      <td>Category_1</td>\n",
       "    </tr>\n",
       "    <tr>\n",
       "      <th>...</th>\n",
       "      <td>...</td>\n",
       "      <td>...</td>\n",
       "      <td>...</td>\n",
       "      <td>...</td>\n",
       "      <td>...</td>\n",
       "      <td>...</td>\n",
       "      <td>...</td>\n",
       "    </tr>\n",
       "    <tr>\n",
       "      <th>5894</th>\n",
       "      <td>Word177 Word178 Word147 Word7</td>\n",
       "      <td>16,880.00</td>\n",
       "      <td>Word2127 Word705 Word825</td>\n",
       "      <td>3/1/2018</td>\n",
       "      <td>Word576 Word366 Word562</td>\n",
       "      <td>Doc3</td>\n",
       "      <td>Category_1</td>\n",
       "    </tr>\n",
       "    <tr>\n",
       "      <th>5895</th>\n",
       "      <td>Word16 Word17 Word18 Word7</td>\n",
       "      <td>4,200.00</td>\n",
       "      <td>Word785 Word330 Word99 Word26</td>\n",
       "      <td>6/30/2018</td>\n",
       "      <td>Word563 Word564 Word9 Word26</td>\n",
       "      <td>NoDoc</td>\n",
       "      <td>Category_1</td>\n",
       "    </tr>\n",
       "    <tr>\n",
       "      <th>5896</th>\n",
       "      <td>Word212 Word213 Word214 Word125 Word119 Word39</td>\n",
       "      <td>170</td>\n",
       "      <td>Word1018 Word190 Word1403</td>\n",
       "      <td>1/1/2018</td>\n",
       "      <td>Word563 Word608 Word609</td>\n",
       "      <td>NoDoc</td>\n",
       "      <td>Category_2</td>\n",
       "    </tr>\n",
       "    <tr>\n",
       "      <th>5897</th>\n",
       "      <td>Word148 Word75 Word5</td>\n",
       "      <td>14,376.00</td>\n",
       "      <td>Word846 Word991</td>\n",
       "      <td>4/1/2018</td>\n",
       "      <td>Word560 Word561 Word315 Word638</td>\n",
       "      <td>Doc1</td>\n",
       "      <td>Category_1</td>\n",
       "    </tr>\n",
       "    <tr>\n",
       "      <th>5898</th>\n",
       "      <td>Word40 Word41 Word4 Word5</td>\n",
       "      <td>1,820.00</td>\n",
       "      <td>Word802 Word278 Word1242 Word803</td>\n",
       "      <td>7/31/2018</td>\n",
       "      <td>Word567 Word582 Word580 Word202 Word545</td>\n",
       "      <td>Doc1</td>\n",
       "      <td>Category_1</td>\n",
       "    </tr>\n",
       "  </tbody>\n",
       "</table>\n",
       "<p>5746 rows × 7 columns</p>\n",
       "</div>\n",
       "      <button class=\"colab-df-convert\" onclick=\"convertToInteractive('df-2b25e0f4-17c7-43c3-8411-46a2b751df43')\"\n",
       "              title=\"Convert this dataframe to an interactive table.\"\n",
       "              style=\"display:none;\">\n",
       "        \n",
       "  <svg xmlns=\"http://www.w3.org/2000/svg\" height=\"24px\"viewBox=\"0 0 24 24\"\n",
       "       width=\"24px\">\n",
       "    <path d=\"M0 0h24v24H0V0z\" fill=\"none\"/>\n",
       "    <path d=\"M18.56 5.44l.94 2.06.94-2.06 2.06-.94-2.06-.94-.94-2.06-.94 2.06-2.06.94zm-11 1L8.5 8.5l.94-2.06 2.06-.94-2.06-.94L8.5 2.5l-.94 2.06-2.06.94zm10 10l.94 2.06.94-2.06 2.06-.94-2.06-.94-.94-2.06-.94 2.06-2.06.94z\"/><path d=\"M17.41 7.96l-1.37-1.37c-.4-.4-.92-.59-1.43-.59-.52 0-1.04.2-1.43.59L10.3 9.45l-7.72 7.72c-.78.78-.78 2.05 0 2.83L4 21.41c.39.39.9.59 1.41.59.51 0 1.02-.2 1.41-.59l7.78-7.78 2.81-2.81c.8-.78.8-2.07 0-2.86zM5.41 20L4 18.59l7.72-7.72 1.47 1.35L5.41 20z\"/>\n",
       "  </svg>\n",
       "      </button>\n",
       "      \n",
       "  <style>\n",
       "    .colab-df-container {\n",
       "      display:flex;\n",
       "      flex-wrap:wrap;\n",
       "      gap: 12px;\n",
       "    }\n",
       "\n",
       "    .colab-df-convert {\n",
       "      background-color: #E8F0FE;\n",
       "      border: none;\n",
       "      border-radius: 50%;\n",
       "      cursor: pointer;\n",
       "      display: none;\n",
       "      fill: #1967D2;\n",
       "      height: 32px;\n",
       "      padding: 0 0 0 0;\n",
       "      width: 32px;\n",
       "    }\n",
       "\n",
       "    .colab-df-convert:hover {\n",
       "      background-color: #E2EBFA;\n",
       "      box-shadow: 0px 1px 2px rgba(60, 64, 67, 0.3), 0px 1px 3px 1px rgba(60, 64, 67, 0.15);\n",
       "      fill: #174EA6;\n",
       "    }\n",
       "\n",
       "    [theme=dark] .colab-df-convert {\n",
       "      background-color: #3B4455;\n",
       "      fill: #D2E3FC;\n",
       "    }\n",
       "\n",
       "    [theme=dark] .colab-df-convert:hover {\n",
       "      background-color: #434B5C;\n",
       "      box-shadow: 0px 1px 3px 1px rgba(0, 0, 0, 0.15);\n",
       "      filter: drop-shadow(0px 1px 2px rgba(0, 0, 0, 0.3));\n",
       "      fill: #FFFFFF;\n",
       "    }\n",
       "  </style>\n",
       "\n",
       "      <script>\n",
       "        const buttonEl =\n",
       "          document.querySelector('#df-2b25e0f4-17c7-43c3-8411-46a2b751df43 button.colab-df-convert');\n",
       "        buttonEl.style.display =\n",
       "          google.colab.kernel.accessAllowed ? 'block' : 'none';\n",
       "\n",
       "        async function convertToInteractive(key) {\n",
       "          const element = document.querySelector('#df-2b25e0f4-17c7-43c3-8411-46a2b751df43');\n",
       "          const dataTable =\n",
       "            await google.colab.kernel.invokeFunction('convertToInteractive',\n",
       "                                                     [key], {});\n",
       "          if (!dataTable) return;\n",
       "\n",
       "          const docLinkHtml = 'Like what you see? Visit the ' +\n",
       "            '<a target=\"_blank\" href=https://colab.research.google.com/notebooks/data_table.ipynb>data table notebook</a>'\n",
       "            + ' to learn more about interactive tables.';\n",
       "          element.innerHTML = '';\n",
       "          dataTable['output_type'] = 'display_data';\n",
       "          await google.colab.output.renderOutput(dataTable, element);\n",
       "          const docLink = document.createElement('div');\n",
       "          docLink.innerHTML = docLinkHtml;\n",
       "          element.appendChild(docLink);\n",
       "        }\n",
       "      </script>\n",
       "    </div>\n",
       "  </div>\n",
       "  "
      ],
      "text/plain": [
       "                                                Col1       Col3  \\\n",
       "0                      Word1 Word2 Word3 Word4 Word5   3,575.00   \n",
       "1                                        Word6 Word7   1,092.50   \n",
       "2                    Word8 Word9 Word10 Word11 Word5         75   \n",
       "3                                Word12 Word13 Word7  30,980.00   \n",
       "4                    Word8 Word9 Word10 Word11 Word5   3,766.80   \n",
       "...                                              ...        ...   \n",
       "5894                   Word177 Word178 Word147 Word7  16,880.00   \n",
       "5895                      Word16 Word17 Word18 Word7   4,200.00   \n",
       "5896  Word212 Word213 Word214 Word125 Word119 Word39        170   \n",
       "5897                            Word148 Word75 Word5  14,376.00   \n",
       "5898                       Word40 Word41 Word4 Word5   1,820.00   \n",
       "\n",
       "                                       Col4        Col5  \\\n",
       "0                           Word771 Word772   8/31/2018   \n",
       "1                   Word711 Word773 Word774   8/31/2018   \n",
       "2                           Word775 Word776  10/31/2018   \n",
       "3     Word777 Word45 Word160 Word45 Word778    1/1/2018   \n",
       "4                   Word779 Word258 Word780    1/1/2018   \n",
       "...                                     ...         ...   \n",
       "5894               Word2127 Word705 Word825    3/1/2018   \n",
       "5895          Word785 Word330 Word99 Word26   6/30/2018   \n",
       "5896              Word1018 Word190 Word1403    1/1/2018   \n",
       "5897                        Word846 Word991    4/1/2018   \n",
       "5898       Word802 Word278 Word1242 Word803   7/31/2018   \n",
       "\n",
       "                                         Col6   Col7 ClassificationLabel  \n",
       "0             Word560 Word561 Word366 Word562   Doc1          Category_1  \n",
       "1                     Word563 Word366 Word562  NoDoc          Category_2  \n",
       "2                Word563 Word564 Word9 Word26  NoDoc          Category_1  \n",
       "3                             Word565 Word566  NoDoc          Category_1  \n",
       "4             Word567 Word568 Word569 Word570   Doc1          Category_1  \n",
       "...                                       ...    ...                 ...  \n",
       "5894                  Word576 Word366 Word562   Doc3          Category_1  \n",
       "5895             Word563 Word564 Word9 Word26  NoDoc          Category_1  \n",
       "5896                  Word563 Word608 Word609  NoDoc          Category_2  \n",
       "5897          Word560 Word561 Word315 Word638   Doc1          Category_1  \n",
       "5898  Word567 Word582 Word580 Word202 Word545   Doc1          Category_1  \n",
       "\n",
       "[5746 rows x 7 columns]"
      ]
     },
     "execution_count": 16,
     "metadata": {},
     "output_type": "execute_result"
    }
   ],
   "source": [
    "data.dropna()"
   ]
  },
  {
   "cell_type": "code",
   "execution_count": 46,
   "metadata": {
    "id": "NVZOkksNFS6p"
   },
   "outputs": [],
   "source": [
    "documents = []\n",
    "for i in range(0,len(data)):\n",
    "  text = data[\"Col1\"][i]\n",
    "  text = text +' '+ str(data['Col4'][i])\n",
    "  text = text +' '+ str(data['Col6'][i])\n",
    "  documents.append(text)"
   ]
  },
  {
   "cell_type": "code",
   "execution_count": 47,
   "metadata": {
    "colab": {
     "base_uri": "https://localhost:8080/",
     "height": 35
    },
    "id": "ryI_5wilFcOI",
    "outputId": "fe0d55b2-8a93-4f29-dc5f-8be72815bdac"
   },
   "outputs": [
    {
     "data": {
      "application/vnd.google.colaboratory.intrinsic+json": {
       "type": "string"
      },
      "text/plain": [
       "'Word8 Word9 Word10 Word11 Word5 Word779 Word258 Word780 Word567 Word568 Word569 Word570'"
      ]
     },
     "execution_count": 47,
     "metadata": {},
     "output_type": "execute_result"
    }
   ],
   "source": [
    "documents[4]"
   ]
  },
  {
   "cell_type": "code",
   "execution_count": 48,
   "metadata": {
    "id": "xbr8zyZxLGBZ"
   },
   "outputs": [],
   "source": [
    "tfidf = TfidfVectorizer()\n",
    "X = tfidf.fit_transform(documents)"
   ]
  },
  {
   "cell_type": "code",
   "execution_count": 20,
   "metadata": {
    "colab": {
     "base_uri": "https://localhost:8080/"
    },
    "id": "XxdHrpA5M3cP",
    "outputId": "e62b0781-1d5f-4c5e-eed0-ef9f84a8643a"
   },
   "outputs": [
    {
     "data": {
      "text/plain": [
       "<5899x2128 sparse matrix of type '<class 'numpy.float64'>'\n",
       "\twith 59906 stored elements in Compressed Sparse Row format>"
      ]
     },
     "execution_count": 20,
     "metadata": {},
     "output_type": "execute_result"
    }
   ],
   "source": [
    "X"
   ]
  },
  {
   "cell_type": "code",
   "execution_count": 21,
   "metadata": {
    "id": "TiE8Q1_jM4UR"
   },
   "outputs": [],
   "source": [
    "y = data['ClassificationLabel']"
   ]
  },
  {
   "cell_type": "markdown",
   "metadata": {
    "id": "jQzZXNELOkD4"
   },
   "source": [
    "Check for class imbalance"
   ]
  },
  {
   "cell_type": "code",
   "execution_count": 22,
   "metadata": {
    "colab": {
     "base_uri": "https://localhost:8080/"
    },
    "id": "y-R2nRy8OnvL",
    "outputId": "6f2c71f2-9a0e-4ec8-d335-c70ca52035ac"
   },
   "outputs": [
    {
     "data": {
      "text/plain": [
       "5215"
      ]
     },
     "execution_count": 22,
     "metadata": {},
     "output_type": "execute_result"
    }
   ],
   "source": [
    "len(Cat_1)"
   ]
  },
  {
   "cell_type": "code",
   "execution_count": 23,
   "metadata": {
    "colab": {
     "base_uri": "https://localhost:8080/"
    },
    "id": "ilrcjMJMODvm",
    "outputId": "d3c6156a-2697-4af1-8c68-7e17c3fe476c"
   },
   "outputs": [
    {
     "data": {
      "text/plain": [
       "631"
      ]
     },
     "execution_count": 23,
     "metadata": {},
     "output_type": "execute_result"
    }
   ],
   "source": [
    "len(Cat_2)"
   ]
  },
  {
   "cell_type": "code",
   "execution_count": 24,
   "metadata": {
    "colab": {
     "base_uri": "https://localhost:8080/"
    },
    "id": "ZbVmGFXBOYvR",
    "outputId": "f58861a8-4adb-4a2c-b171-ff746fe879b5"
   },
   "outputs": [
    {
     "data": {
      "text/plain": [
       "23"
      ]
     },
     "execution_count": 24,
     "metadata": {},
     "output_type": "execute_result"
    }
   ],
   "source": [
    "len(Cat_3)"
   ]
  },
  {
   "cell_type": "code",
   "execution_count": 25,
   "metadata": {
    "colab": {
     "base_uri": "https://localhost:8080/"
    },
    "id": "D1D_L4_aO0K7",
    "outputId": "d2c1c8de-79d4-47b2-e553-92555af6efc5"
   },
   "outputs": [
    {
     "data": {
      "text/plain": [
       "16"
      ]
     },
     "execution_count": 25,
     "metadata": {},
     "output_type": "execute_result"
    }
   ],
   "source": [
    "len(Cat_4)"
   ]
  },
  {
   "cell_type": "code",
   "execution_count": 26,
   "metadata": {
    "colab": {
     "base_uri": "https://localhost:8080/"
    },
    "id": "TJ05ajp7O3Dd",
    "outputId": "f634a722-439a-4cf6-c266-1f6eb6e2a505"
   },
   "outputs": [
    {
     "data": {
      "text/plain": [
       "2"
      ]
     },
     "execution_count": 26,
     "metadata": {},
     "output_type": "execute_result"
    }
   ],
   "source": [
    "len(Cat_5)"
   ]
  },
  {
   "cell_type": "code",
   "execution_count": 27,
   "metadata": {
    "colab": {
     "base_uri": "https://localhost:8080/"
    },
    "id": "km-J5UUPRvUI",
    "outputId": "6823e03c-349a-49ee-b4c1-20503757036e"
   },
   "outputs": [
    {
     "data": {
      "text/plain": [
       "12"
      ]
     },
     "execution_count": 27,
     "metadata": {},
     "output_type": "execute_result"
    }
   ],
   "source": [
    "len(Cat_6)"
   ]
  },
  {
   "cell_type": "markdown",
   "metadata": {
    "id": "dRpRQAuXuqKk"
   },
   "source": [
    "As shown above, many more instances of classes 1 and 2 than the rest"
   ]
  },
  {
   "cell_type": "markdown",
   "metadata": {
    "id": "llPti4NAr9iE"
   },
   "source": [
    "Rename Labels with spelling errors"
   ]
  },
  {
   "cell_type": "code",
   "execution_count": 28,
   "metadata": {
    "id": "JRKR5Q-csARp"
   },
   "outputs": [],
   "source": [
    "data['ClassificationLabel'] = data['ClassificationLabel'].replace(to_replace=['category_1'], value = 'Category_1')\n",
    "data['ClassificationLabel'] = data['ClassificationLabel'].replace(to_replace=['Category2'], value = 'Category_2')\n",
    "data['ClassificationLabel'] = data['ClassificationLabel'].replace(to_replace = ['Category _3'], value = 'Category_3')\n",
    "data['ClassificationLabel'] = data['ClassificationLabel'].replace(to_replace = ['Category4'], value = 'Category_4')\n",
    "data['ClassificationLabel'] = data['ClassificationLabel'].replace(to_replace = ['Category 5'], value = 'Category_5')\n",
    "data['ClassificationLabel'] = data['ClassificationLabel'].replace(to_replace = ['Categry_6'], value = 'Category_6')"
   ]
  },
  {
   "cell_type": "code",
   "execution_count": 29,
   "metadata": {
    "colab": {
     "base_uri": "https://localhost:8080/"
    },
    "id": "tOpdev_cuQuB",
    "outputId": "ba2785c3-6fad-4d1c-ac36-e8de5bf83158"
   },
   "outputs": [
    {
     "data": {
      "text/plain": [
       "array(['Category_1', 'Category_2', 'Category_3', 'Category_6',\n",
       "       'Category_4', 'Category_5', 'Category 3'], dtype=object)"
      ]
     },
     "execution_count": 29,
     "metadata": {},
     "output_type": "execute_result"
    }
   ],
   "source": [
    "data.ClassificationLabel.unique()"
   ]
  },
  {
   "cell_type": "markdown",
   "metadata": {
    "id": "uwRuc-deq0pV"
   },
   "source": [
    "Try Logistic Regression"
   ]
  },
  {
   "cell_type": "code",
   "execution_count": 30,
   "metadata": {
    "id": "M0VP1hmQ7AQz"
   },
   "outputs": [],
   "source": [
    "def modelvalidation(model,x,y,nfolds=5,rs=123):\n",
    "  skf = StratifiedKFold(n_splits=nfolds,shuffle=True,random_state=rs)\n",
    "  accuracies = []\n",
    "  confusions = []\n",
    "\n",
    "  for idxtrain, idxtest in tqdm(skf.split(x,y)):\n",
    "    xtrain = x[idxtrain]\n",
    "    ytrain = y[idxtrain]\n",
    "    xtest = x[idxtest]\n",
    "    ytest = y[idxtest]\n",
    "    model.fit(xtrain,ytrain)\n",
    "    accuracies.append(accuracy_score(ytest,model.predict(xtest)))\n",
    "    print(accuracies)\n",
    "    confusions.append(confusion_matrix(ytest,model.predict(xtest)))\n",
    "  return accuracies, confusions"
   ]
  },
  {
   "cell_type": "code",
   "execution_count": 31,
   "metadata": {
    "id": "D-EhnT7h72ma"
   },
   "outputs": [],
   "source": [
    "model = LogisticRegression(solver='lbfgs', max_iter=10000)"
   ]
  },
  {
   "cell_type": "code",
   "execution_count": 32,
   "metadata": {
    "colab": {
     "base_uri": "https://localhost:8080/"
    },
    "id": "jtMPyvKx7SJI",
    "outputId": "9a758714-de09-40d0-d21b-fbec676f4e21"
   },
   "outputs": [
    {
     "name": "stderr",
     "output_type": "stream",
     "text": [
      "1it [00:00,  1.19it/s]"
     ]
    },
    {
     "name": "stdout",
     "output_type": "stream",
     "text": [
      "[0.9542372881355933]\n"
     ]
    },
    {
     "name": "stderr",
     "output_type": "stream",
     "text": [
      "\r",
      "2it [00:02,  1.10s/it]"
     ]
    },
    {
     "name": "stdout",
     "output_type": "stream",
     "text": [
      "[0.9542372881355933, 0.9533898305084746]\n"
     ]
    },
    {
     "name": "stderr",
     "output_type": "stream",
     "text": [
      "\r",
      "3it [00:03,  1.32s/it]"
     ]
    },
    {
     "name": "stdout",
     "output_type": "stream",
     "text": [
      "[0.9542372881355933, 0.9533898305084746, 0.9372881355932203]\n"
     ]
    },
    {
     "name": "stderr",
     "output_type": "stream",
     "text": [
      "\r",
      "4it [00:05,  1.48s/it]"
     ]
    },
    {
     "name": "stdout",
     "output_type": "stream",
     "text": [
      "[0.9542372881355933, 0.9533898305084746, 0.9372881355932203, 0.9483050847457627]\n"
     ]
    },
    {
     "name": "stderr",
     "output_type": "stream",
     "text": [
      "5it [00:07,  1.41s/it]"
     ]
    },
    {
     "name": "stdout",
     "output_type": "stream",
     "text": [
      "[0.9542372881355933, 0.9533898305084746, 0.9372881355932203, 0.9483050847457627, 0.9414758269720102]\n"
     ]
    },
    {
     "name": "stderr",
     "output_type": "stream",
     "text": [
      "\n"
     ]
    },
    {
     "data": {
      "text/plain": [
       "([0.9542372881355933,\n",
       "  0.9533898305084746,\n",
       "  0.9372881355932203,\n",
       "  0.9483050847457627,\n",
       "  0.9414758269720102],\n",
       " [array([[   0,    1,    0,    1,    0,    0],\n",
       "         [   0, 1034,    9,    0,    0,    0],\n",
       "         [   0,   37,   90,    0,    0,    0],\n",
       "         [   0,    0,    0,    2,    0,    0],\n",
       "         [   0,    3,    0,    0,    0,    0],\n",
       "         [   0,    3,    0,    0,    0,    0]]),\n",
       "  array([[   0,    1,    0,    1,    0,    0],\n",
       "         [   0, 1033,   10,    0,    0,    0],\n",
       "         [   0,   37,   89,    0,    0,    0],\n",
       "         [   0,    0,    0,    3,    0,    0],\n",
       "         [   0,    4,    0,    0,    0,    0],\n",
       "         [   0,    2,    0,    0,    0,    0]]),\n",
       "  array([[   0,    1,    0,    1,    0,    0,    0],\n",
       "         [   0, 1031,   12,    0,    0,    0,    0],\n",
       "         [   0,   53,   73,    0,    0,    0,    0],\n",
       "         [   0,    1,    0,    2,    0,    0,    0],\n",
       "         [   0,    3,    0,    0,    0,    0,    0],\n",
       "         [   0,    1,    0,    0,    0,    0,    0],\n",
       "         [   0,    2,    0,    0,    0,    0,    0]]),\n",
       "  array([[   0,    0,    0,    2,    0,    0,    0],\n",
       "         [   0, 1024,   19,    0,    0,    0,    0],\n",
       "         [   0,   33,   93,    0,    0,    0,    0],\n",
       "         [   0,    1,    0,    2,    0,    0,    0],\n",
       "         [   0,    3,    0,    0,    0,    0,    0],\n",
       "         [   0,    0,    1,    0,    0,    0,    0],\n",
       "         [   0,    2,    0,    0,    0,    0,    0]]),\n",
       "  array([[   0,    0,    0,    2,    0,    0],\n",
       "         [   0, 1028,   15,    0,    0,    0],\n",
       "         [   0,   45,   81,    0,    0,    0],\n",
       "         [   0,    1,    0,    1,    0,    0],\n",
       "         [   0,    3,    0,    0,    0,    0],\n",
       "         [   0,    3,    0,    0,    0,    0]])])"
      ]
     },
     "execution_count": 32,
     "metadata": {},
     "output_type": "execute_result"
    }
   ],
   "source": [
    "modelvalidation(model,X,y,nfolds=5)"
   ]
  },
  {
   "cell_type": "markdown",
   "metadata": {
    "id": "nm3wbs0Pzzns"
   },
   "source": [
    "Now lets try Decision Tree Classifier"
   ]
  },
  {
   "cell_type": "code",
   "execution_count": 33,
   "metadata": {
    "id": "kyc9nFy4py9g"
   },
   "outputs": [],
   "source": [
    "from sklearn.tree import DecisionTreeClassifier\n",
    "model = DecisionTreeClassifier(max_depth=20,min_samples_leaf=400)"
   ]
  },
  {
   "cell_type": "code",
   "execution_count": 34,
   "metadata": {
    "colab": {
     "base_uri": "https://localhost:8080/"
    },
    "id": "Dsgbeq9n8Bk3",
    "outputId": "e6b0edde-ec08-4b35-89c4-44f3d934be29"
   },
   "outputs": [
    {
     "name": "stderr",
     "output_type": "stream",
     "text": [
      "2it [00:00, 10.45it/s]"
     ]
    },
    {
     "name": "stdout",
     "output_type": "stream",
     "text": [
      "[0.8838983050847458]\n",
      "[0.8838983050847458, 0.8838983050847458]\n",
      "[0.8838983050847458, 0.8838983050847458, 0.8838983050847458]\n"
     ]
    },
    {
     "name": "stderr",
     "output_type": "stream",
     "text": [
      "5it [00:00, 13.14it/s]"
     ]
    },
    {
     "name": "stdout",
     "output_type": "stream",
     "text": [
      "[0.8838983050847458, 0.8838983050847458, 0.8838983050847458, 0.8838983050847458]\n",
      "[0.8838983050847458, 0.8838983050847458, 0.8838983050847458, 0.8838983050847458, 0.8846480067854113]\n"
     ]
    },
    {
     "name": "stderr",
     "output_type": "stream",
     "text": [
      "\n"
     ]
    },
    {
     "data": {
      "text/plain": [
       "([0.8838983050847458,\n",
       "  0.8838983050847458,\n",
       "  0.8838983050847458,\n",
       "  0.8838983050847458,\n",
       "  0.8846480067854113],\n",
       " [array([[   0,    2,    0,    0,    0,    0],\n",
       "         [   0, 1043,    0,    0,    0,    0],\n",
       "         [   0,  127,    0,    0,    0,    0],\n",
       "         [   0,    2,    0,    0,    0,    0],\n",
       "         [   0,    3,    0,    0,    0,    0],\n",
       "         [   0,    3,    0,    0,    0,    0]]),\n",
       "  array([[   0,    2,    0,    0,    0,    0],\n",
       "         [   0, 1043,    0,    0,    0,    0],\n",
       "         [   0,  126,    0,    0,    0,    0],\n",
       "         [   0,    3,    0,    0,    0,    0],\n",
       "         [   0,    4,    0,    0,    0,    0],\n",
       "         [   0,    2,    0,    0,    0,    0]]),\n",
       "  array([[   0,    2,    0,    0,    0,    0,    0],\n",
       "         [   0, 1043,    0,    0,    0,    0,    0],\n",
       "         [   0,  126,    0,    0,    0,    0,    0],\n",
       "         [   0,    3,    0,    0,    0,    0,    0],\n",
       "         [   0,    3,    0,    0,    0,    0,    0],\n",
       "         [   0,    1,    0,    0,    0,    0,    0],\n",
       "         [   0,    2,    0,    0,    0,    0,    0]]),\n",
       "  array([[   0,    2,    0,    0,    0,    0,    0],\n",
       "         [   0, 1043,    0,    0,    0,    0,    0],\n",
       "         [   0,  126,    0,    0,    0,    0,    0],\n",
       "         [   0,    3,    0,    0,    0,    0,    0],\n",
       "         [   0,    3,    0,    0,    0,    0,    0],\n",
       "         [   0,    1,    0,    0,    0,    0,    0],\n",
       "         [   0,    2,    0,    0,    0,    0,    0]]),\n",
       "  array([[   0,    2,    0,    0,    0,    0],\n",
       "         [   0, 1043,    0,    0,    0,    0],\n",
       "         [   0,  126,    0,    0,    0,    0],\n",
       "         [   0,    2,    0,    0,    0,    0],\n",
       "         [   0,    3,    0,    0,    0,    0],\n",
       "         [   0,    3,    0,    0,    0,    0]])])"
      ]
     },
     "execution_count": 34,
     "metadata": {},
     "output_type": "execute_result"
    }
   ],
   "source": [
    "modelvalidation(model,X,y)"
   ]
  },
  {
   "cell_type": "markdown",
   "metadata": {
    "id": "nJ_2eHFP3pc8"
   },
   "source": [
    "Now lets try Random Forest Classifier"
   ]
  },
  {
   "cell_type": "code",
   "execution_count": 35,
   "metadata": {
    "id": "yvU4ifhB25II"
   },
   "outputs": [],
   "source": [
    "from sklearn.ensemble import RandomForestClassifier\n",
    "model = RandomForestClassifier(n_estimators=1000,max_depth=1000,min_samples_leaf=100,random_state=310)"
   ]
  },
  {
   "cell_type": "code",
   "execution_count": 36,
   "metadata": {
    "colab": {
     "base_uri": "https://localhost:8080/"
    },
    "id": "LIVn6ZbL8Wj2",
    "outputId": "b9bc9937-d490-4ffd-ecd7-ec39a7601433"
   },
   "outputs": [
    {
     "name": "stderr",
     "output_type": "stream",
     "text": [
      "\r",
      "0it [00:00, ?it/s]"
     ]
    },
    {
     "name": "stdout",
     "output_type": "stream",
     "text": [
      "[0.8838983050847458]\n"
     ]
    },
    {
     "name": "stderr",
     "output_type": "stream",
     "text": [
      "\r",
      "1it [00:05,  5.71s/it]"
     ]
    },
    {
     "name": "stdout",
     "output_type": "stream",
     "text": [
      "[0.8838983050847458, 0.8838983050847458]\n"
     ]
    },
    {
     "name": "stderr",
     "output_type": "stream",
     "text": [
      "\r",
      "2it [00:13,  6.74s/it]"
     ]
    },
    {
     "name": "stdout",
     "output_type": "stream",
     "text": [
      "[0.8838983050847458, 0.8838983050847458, 0.8838983050847458]\n"
     ]
    },
    {
     "name": "stderr",
     "output_type": "stream",
     "text": [
      "\r",
      "3it [00:19,  6.57s/it]"
     ]
    },
    {
     "name": "stdout",
     "output_type": "stream",
     "text": [
      "[0.8838983050847458, 0.8838983050847458, 0.8838983050847458, 0.8838983050847458]\n"
     ]
    },
    {
     "name": "stderr",
     "output_type": "stream",
     "text": [
      "\r",
      "4it [00:22,  5.10s/it]"
     ]
    },
    {
     "name": "stdout",
     "output_type": "stream",
     "text": [
      "[0.8838983050847458, 0.8838983050847458, 0.8838983050847458, 0.8838983050847458, 0.8846480067854113]\n"
     ]
    },
    {
     "name": "stderr",
     "output_type": "stream",
     "text": [
      "5it [00:25,  5.05s/it]\n"
     ]
    },
    {
     "data": {
      "text/plain": [
       "([0.8838983050847458,\n",
       "  0.8838983050847458,\n",
       "  0.8838983050847458,\n",
       "  0.8838983050847458,\n",
       "  0.8846480067854113],\n",
       " [array([[   0,    2,    0,    0,    0,    0],\n",
       "         [   0, 1043,    0,    0,    0,    0],\n",
       "         [   0,  127,    0,    0,    0,    0],\n",
       "         [   0,    2,    0,    0,    0,    0],\n",
       "         [   0,    3,    0,    0,    0,    0],\n",
       "         [   0,    3,    0,    0,    0,    0]]),\n",
       "  array([[   0,    2,    0,    0,    0,    0],\n",
       "         [   0, 1043,    0,    0,    0,    0],\n",
       "         [   0,  126,    0,    0,    0,    0],\n",
       "         [   0,    3,    0,    0,    0,    0],\n",
       "         [   0,    4,    0,    0,    0,    0],\n",
       "         [   0,    2,    0,    0,    0,    0]]),\n",
       "  array([[   0,    2,    0,    0,    0,    0,    0],\n",
       "         [   0, 1043,    0,    0,    0,    0,    0],\n",
       "         [   0,  126,    0,    0,    0,    0,    0],\n",
       "         [   0,    3,    0,    0,    0,    0,    0],\n",
       "         [   0,    3,    0,    0,    0,    0,    0],\n",
       "         [   0,    1,    0,    0,    0,    0,    0],\n",
       "         [   0,    2,    0,    0,    0,    0,    0]]),\n",
       "  array([[   0,    2,    0,    0,    0,    0,    0],\n",
       "         [   0, 1043,    0,    0,    0,    0,    0],\n",
       "         [   0,  126,    0,    0,    0,    0,    0],\n",
       "         [   0,    3,    0,    0,    0,    0,    0],\n",
       "         [   0,    3,    0,    0,    0,    0,    0],\n",
       "         [   0,    1,    0,    0,    0,    0,    0],\n",
       "         [   0,    2,    0,    0,    0,    0,    0]]),\n",
       "  array([[   0,    2,    0,    0,    0,    0],\n",
       "         [   0, 1043,    0,    0,    0,    0],\n",
       "         [   0,  126,    0,    0,    0,    0],\n",
       "         [   0,    2,    0,    0,    0,    0],\n",
       "         [   0,    3,    0,    0,    0,    0],\n",
       "         [   0,    3,    0,    0,    0,    0]])])"
      ]
     },
     "execution_count": 36,
     "metadata": {},
     "output_type": "execute_result"
    }
   ],
   "source": [
    "modelvalidation(model,X,y)"
   ]
  },
  {
   "cell_type": "markdown",
   "metadata": {
    "id": "6Dt_7bI_MVgB"
   },
   "source": [
    "Now lets try SVM"
   ]
  },
  {
   "cell_type": "code",
   "execution_count": 49,
   "metadata": {
    "id": "F5NjOt9T4d-r"
   },
   "outputs": [],
   "source": [
    "from sklearn.svm import SVC\n",
    "model = SVC(kernel='poly',degree=3,C=2.0)"
   ]
  },
  {
   "cell_type": "code",
   "execution_count": 50,
   "metadata": {
    "colab": {
     "base_uri": "https://localhost:8080/"
    },
    "id": "OKC7Av3MMXia",
    "outputId": "34e44e1e-bf1a-4378-ddf2-dbf42301efcf"
   },
   "outputs": [
    {
     "name": "stderr",
     "output_type": "stream",
     "text": [
      "\r",
      "0it [00:00, ?it/s]"
     ]
    },
    {
     "name": "stdout",
     "output_type": "stream",
     "text": [
      "[0.9610169491525423]\n"
     ]
    },
    {
     "name": "stderr",
     "output_type": "stream",
     "text": [
      "\r",
      "1it [00:06,  6.28s/it]"
     ]
    },
    {
     "name": "stdout",
     "output_type": "stream",
     "text": [
      "[0.9610169491525423, 0.9652542372881356]\n"
     ]
    },
    {
     "name": "stderr",
     "output_type": "stream",
     "text": [
      "\r",
      "2it [00:10,  5.19s/it]"
     ]
    },
    {
     "name": "stdout",
     "output_type": "stream",
     "text": [
      "[0.9610169491525423, 0.9652542372881356, 0.961864406779661]\n"
     ]
    },
    {
     "name": "stderr",
     "output_type": "stream",
     "text": [
      "\r",
      "3it [00:15,  4.79s/it]"
     ]
    },
    {
     "name": "stdout",
     "output_type": "stream",
     "text": [
      "[0.9610169491525423, 0.9652542372881356, 0.961864406779661, 0.9525423728813559]\n"
     ]
    },
    {
     "name": "stderr",
     "output_type": "stream",
     "text": [
      "\r",
      "4it [00:19,  4.58s/it]"
     ]
    },
    {
     "name": "stdout",
     "output_type": "stream",
     "text": [
      "[0.9610169491525423, 0.9652542372881356, 0.961864406779661, 0.9525423728813559, 0.9584393553859203]\n"
     ]
    },
    {
     "name": "stderr",
     "output_type": "stream",
     "text": [
      "5it [00:23,  4.73s/it]\n"
     ]
    },
    {
     "data": {
      "text/plain": [
       "([0.9610169491525423,\n",
       "  0.9652542372881356,\n",
       "  0.961864406779661,\n",
       "  0.9525423728813559,\n",
       "  0.9584393553859203],\n",
       " [array([[   1,    0,    0,    1,    0,    0],\n",
       "         [   0, 1037,    5,    0,    1,    0],\n",
       "         [   0,   34,   92,    0,    1,    0],\n",
       "         [   0,    0,    0,    2,    0,    0],\n",
       "         [   0,    1,    0,    0,    2,    0],\n",
       "         [   0,    3,    0,    0,    0,    0]]),\n",
       "  array([[   0,    1,    0,    1,    0,    0],\n",
       "         [   0, 1038,    4,    0,    0,    1],\n",
       "         [   0,   30,   96,    0,    0,    0],\n",
       "         [   0,    0,    0,    3,    0,    0],\n",
       "         [   0,    3,    0,    0,    1,    0],\n",
       "         [   0,    1,    0,    0,    0,    1]]),\n",
       "  array([[   1,    0,    0,    1,    0,    0,    0],\n",
       "         [   0, 1036,    6,    0,    1,    0,    0],\n",
       "         [   0,   33,   93,    0,    0,    0,    0],\n",
       "         [   0,    1,    0,    2,    0,    0,    0],\n",
       "         [   0,    0,    0,    1,    2,    0,    0],\n",
       "         [   0,    1,    0,    0,    0,    0,    0],\n",
       "         [   0,    1,    0,    0,    0,    0,    1]]),\n",
       "  array([[   0,    0,    0,    2,    0,    0,    0],\n",
       "         [   0, 1026,   13,    0,    4,    0,    0],\n",
       "         [   0,   34,   92,    0,    0,    0,    0],\n",
       "         [   0,    0,    0,    3,    0,    0,    0],\n",
       "         [   0,    0,    0,    1,    2,    0,    0],\n",
       "         [   0,    0,    1,    0,    0,    0,    0],\n",
       "         [   0,    1,    0,    0,    0,    0,    1]]),\n",
       "  array([[   0,    0,    0,    2,    0,    0],\n",
       "         [   0, 1035,    8,    0,    0,    0],\n",
       "         [   0,   34,   92,    0,    0,    0],\n",
       "         [   0,    0,    0,    1,    1,    0],\n",
       "         [   0,    3,    0,    0,    0,    0],\n",
       "         [   0,    1,    0,    0,    0,    2]])])"
      ]
     },
     "execution_count": 50,
     "metadata": {},
     "output_type": "execute_result"
    }
   ],
   "source": [
    "modelvalidation(model,X,y)"
   ]
  },
  {
   "cell_type": "markdown",
   "metadata": {
    "id": "h-kx1TVUp0Uo"
   },
   "source": [
    "# Now lets try with concatenating Col7 to the descriptions"
   ]
  },
  {
   "cell_type": "code",
   "execution_count": 39,
   "metadata": {
    "id": "qnidin9YMe3Z"
   },
   "outputs": [],
   "source": [
    "documents = []\n",
    "for i in range(0,len(data)):\n",
    "  text = data[\"Col1\"][i]\n",
    "  text = text +' '+ str(data['Col4'][i])\n",
    "  text = text +' '+ str(data['Col6'][i])\n",
    "  text = text + ' ' + str(data['Col7'][i])\n",
    "  documents.append(text)"
   ]
  },
  {
   "cell_type": "code",
   "execution_count": 42,
   "metadata": {
    "colab": {
     "base_uri": "https://localhost:8080/",
     "height": 35
    },
    "id": "erTLKppvwrsk",
    "outputId": "f486e3d2-655a-4e05-c5f2-d55a93fbe06d"
   },
   "outputs": [
    {
     "data": {
      "application/vnd.google.colaboratory.intrinsic+json": {
       "type": "string"
      },
      "text/plain": [
       "'Word6 Word7 Word711 Word773 Word774 Word563 Word366 Word562 NoDoc'"
      ]
     },
     "execution_count": 42,
     "metadata": {},
     "output_type": "execute_result"
    }
   ],
   "source": [
    "documents[1]"
   ]
  },
  {
   "cell_type": "code",
   "execution_count": 40,
   "metadata": {
    "id": "prxAy8uBqTc3"
   },
   "outputs": [],
   "source": [
    "X = tfidf.fit_transform(documents)"
   ]
  },
  {
   "cell_type": "markdown",
   "metadata": {
    "id": "4TWPEIFtv9k7"
   },
   "source": [
    "Logistic Regression"
   ]
  },
  {
   "cell_type": "code",
   "execution_count": 41,
   "metadata": {
    "colab": {
     "base_uri": "https://localhost:8080/"
    },
    "id": "7FtZyDfFqTYh",
    "outputId": "c8097a16-6300-487a-cd3f-5f4a6784596a"
   },
   "outputs": [
    {
     "name": "stderr",
     "output_type": "stream",
     "text": [
      "1it [00:01,  1.90s/it]"
     ]
    },
    {
     "name": "stdout",
     "output_type": "stream",
     "text": [
      "[0.9550847457627119]\n"
     ]
    },
    {
     "name": "stderr",
     "output_type": "stream",
     "text": [
      "\r",
      "2it [00:03,  1.72s/it]"
     ]
    },
    {
     "name": "stdout",
     "output_type": "stream",
     "text": [
      "[0.9550847457627119, 0.9533898305084746]\n"
     ]
    },
    {
     "name": "stderr",
     "output_type": "stream",
     "text": [
      "\r",
      "3it [00:05,  1.73s/it]"
     ]
    },
    {
     "name": "stdout",
     "output_type": "stream",
     "text": [
      "[0.9550847457627119, 0.9533898305084746, 0.9372881355932203]\n"
     ]
    },
    {
     "name": "stderr",
     "output_type": "stream",
     "text": [
      "\r",
      "4it [00:07,  1.88s/it]"
     ]
    },
    {
     "name": "stdout",
     "output_type": "stream",
     "text": [
      "[0.9550847457627119, 0.9533898305084746, 0.9372881355932203, 0.9491525423728814]\n"
     ]
    },
    {
     "name": "stderr",
     "output_type": "stream",
     "text": [
      "5it [00:09,  1.85s/it]"
     ]
    },
    {
     "name": "stdout",
     "output_type": "stream",
     "text": [
      "[0.9550847457627119, 0.9533898305084746, 0.9372881355932203, 0.9491525423728814, 0.9414758269720102]\n"
     ]
    },
    {
     "name": "stderr",
     "output_type": "stream",
     "text": [
      "\n"
     ]
    },
    {
     "data": {
      "text/plain": [
       "([0.9550847457627119,\n",
       "  0.9533898305084746,\n",
       "  0.9372881355932203,\n",
       "  0.9491525423728814,\n",
       "  0.9414758269720102],\n",
       " [array([[   0,    1,    0,    1,    0,    0],\n",
       "         [   0, 1034,    9,    0,    0,    0],\n",
       "         [   0,   36,   91,    0,    0,    0],\n",
       "         [   0,    0,    0,    2,    0,    0],\n",
       "         [   0,    3,    0,    0,    0,    0],\n",
       "         [   0,    3,    0,    0,    0,    0]]),\n",
       "  array([[   0,    1,    0,    1,    0,    0],\n",
       "         [   0, 1033,   10,    0,    0,    0],\n",
       "         [   0,   37,   89,    0,    0,    0],\n",
       "         [   0,    0,    0,    3,    0,    0],\n",
       "         [   0,    4,    0,    0,    0,    0],\n",
       "         [   0,    2,    0,    0,    0,    0]]),\n",
       "  array([[   0,    1,    0,    1,    0,    0,    0],\n",
       "         [   0, 1031,   12,    0,    0,    0,    0],\n",
       "         [   0,   53,   73,    0,    0,    0,    0],\n",
       "         [   0,    1,    0,    2,    0,    0,    0],\n",
       "         [   0,    3,    0,    0,    0,    0,    0],\n",
       "         [   0,    1,    0,    0,    0,    0,    0],\n",
       "         [   0,    2,    0,    0,    0,    0,    0]]),\n",
       "  array([[   0,    0,    0,    2,    0,    0,    0],\n",
       "         [   0, 1025,   18,    0,    0,    0,    0],\n",
       "         [   0,   33,   93,    0,    0,    0,    0],\n",
       "         [   0,    1,    0,    2,    0,    0,    0],\n",
       "         [   0,    3,    0,    0,    0,    0,    0],\n",
       "         [   0,    0,    1,    0,    0,    0,    0],\n",
       "         [   0,    2,    0,    0,    0,    0,    0]]),\n",
       "  array([[   0,    0,    0,    2,    0,    0],\n",
       "         [   0, 1028,   15,    0,    0,    0],\n",
       "         [   0,   45,   81,    0,    0,    0],\n",
       "         [   0,    1,    0,    1,    0,    0],\n",
       "         [   0,    3,    0,    0,    0,    0],\n",
       "         [   0,    3,    0,    0,    0,    0]])])"
      ]
     },
     "execution_count": 41,
     "metadata": {},
     "output_type": "execute_result"
    }
   ],
   "source": [
    "model = LogisticRegression(solver='lbfgs', max_iter=10000)\n",
    "modelvalidation(model,X,y)"
   ]
  },
  {
   "cell_type": "markdown",
   "metadata": {
    "id": "IGeI-6T1wfGT"
   },
   "source": [
    "Decision Tree"
   ]
  },
  {
   "cell_type": "code",
   "execution_count": 43,
   "metadata": {
    "colab": {
     "base_uri": "https://localhost:8080/"
    },
    "id": "gBjU0KC_wdMC",
    "outputId": "5b8f61d9-b79f-453f-ab0f-5b50e852a95a"
   },
   "outputs": [
    {
     "name": "stderr",
     "output_type": "stream",
     "text": [
      "1it [00:00,  5.45it/s]"
     ]
    },
    {
     "name": "stdout",
     "output_type": "stream",
     "text": [
      "[0.8838983050847458]\n",
      "[0.8838983050847458, 0.8838983050847458]\n"
     ]
    },
    {
     "name": "stderr",
     "output_type": "stream",
     "text": [
      "4it [00:00,  7.83it/s]"
     ]
    },
    {
     "name": "stdout",
     "output_type": "stream",
     "text": [
      "[0.8838983050847458, 0.8838983050847458, 0.8838983050847458]\n",
      "[0.8838983050847458, 0.8838983050847458, 0.8838983050847458, 0.8838983050847458]\n"
     ]
    },
    {
     "name": "stderr",
     "output_type": "stream",
     "text": [
      "5it [00:00,  7.27it/s]"
     ]
    },
    {
     "name": "stdout",
     "output_type": "stream",
     "text": [
      "[0.8838983050847458, 0.8838983050847458, 0.8838983050847458, 0.8838983050847458, 0.8846480067854113]\n"
     ]
    },
    {
     "name": "stderr",
     "output_type": "stream",
     "text": [
      "\n"
     ]
    },
    {
     "data": {
      "text/plain": [
       "([0.8838983050847458,\n",
       "  0.8838983050847458,\n",
       "  0.8838983050847458,\n",
       "  0.8838983050847458,\n",
       "  0.8846480067854113],\n",
       " [array([[   0,    2,    0,    0,    0,    0],\n",
       "         [   0, 1043,    0,    0,    0,    0],\n",
       "         [   0,  127,    0,    0,    0,    0],\n",
       "         [   0,    2,    0,    0,    0,    0],\n",
       "         [   0,    3,    0,    0,    0,    0],\n",
       "         [   0,    3,    0,    0,    0,    0]]),\n",
       "  array([[   0,    2,    0,    0,    0,    0],\n",
       "         [   0, 1043,    0,    0,    0,    0],\n",
       "         [   0,  126,    0,    0,    0,    0],\n",
       "         [   0,    3,    0,    0,    0,    0],\n",
       "         [   0,    4,    0,    0,    0,    0],\n",
       "         [   0,    2,    0,    0,    0,    0]]),\n",
       "  array([[   0,    2,    0,    0,    0,    0,    0],\n",
       "         [   0, 1043,    0,    0,    0,    0,    0],\n",
       "         [   0,  126,    0,    0,    0,    0,    0],\n",
       "         [   0,    3,    0,    0,    0,    0,    0],\n",
       "         [   0,    3,    0,    0,    0,    0,    0],\n",
       "         [   0,    1,    0,    0,    0,    0,    0],\n",
       "         [   0,    2,    0,    0,    0,    0,    0]]),\n",
       "  array([[   0,    2,    0,    0,    0,    0,    0],\n",
       "         [   0, 1043,    0,    0,    0,    0,    0],\n",
       "         [   0,  126,    0,    0,    0,    0,    0],\n",
       "         [   0,    3,    0,    0,    0,    0,    0],\n",
       "         [   0,    3,    0,    0,    0,    0,    0],\n",
       "         [   0,    1,    0,    0,    0,    0,    0],\n",
       "         [   0,    2,    0,    0,    0,    0,    0]]),\n",
       "  array([[   0,    2,    0,    0,    0,    0],\n",
       "         [   0, 1043,    0,    0,    0,    0],\n",
       "         [   0,  126,    0,    0,    0,    0],\n",
       "         [   0,    2,    0,    0,    0,    0],\n",
       "         [   0,    3,    0,    0,    0,    0],\n",
       "         [   0,    3,    0,    0,    0,    0]])])"
      ]
     },
     "execution_count": 43,
     "metadata": {},
     "output_type": "execute_result"
    }
   ],
   "source": [
    "model = DecisionTreeClassifier(max_depth=20,min_samples_leaf=400)\n",
    "modelvalidation(model,X,y)"
   ]
  },
  {
   "cell_type": "markdown",
   "metadata": {
    "id": "OnTdDw_xxDeO"
   },
   "source": [
    "Random Forest"
   ]
  },
  {
   "cell_type": "code",
   "execution_count": 44,
   "metadata": {
    "colab": {
     "base_uri": "https://localhost:8080/"
    },
    "id": "2Xi8ew3ew8A7",
    "outputId": "1b9bbe66-7cbf-4508-a226-9396423a8883"
   },
   "outputs": [
    {
     "name": "stderr",
     "output_type": "stream",
     "text": [
      "\r",
      "0it [00:00, ?it/s]"
     ]
    },
    {
     "name": "stdout",
     "output_type": "stream",
     "text": [
      "[0.8838983050847458]\n"
     ]
    },
    {
     "name": "stderr",
     "output_type": "stream",
     "text": [
      "\r",
      "1it [00:05,  5.95s/it]"
     ]
    },
    {
     "name": "stdout",
     "output_type": "stream",
     "text": [
      "[0.8838983050847458, 0.8838983050847458]\n"
     ]
    },
    {
     "name": "stderr",
     "output_type": "stream",
     "text": [
      "\r",
      "2it [00:10,  5.15s/it]"
     ]
    },
    {
     "name": "stdout",
     "output_type": "stream",
     "text": [
      "[0.8838983050847458, 0.8838983050847458, 0.8838983050847458]\n"
     ]
    },
    {
     "name": "stderr",
     "output_type": "stream",
     "text": [
      "\r",
      "3it [00:13,  4.15s/it]"
     ]
    },
    {
     "name": "stdout",
     "output_type": "stream",
     "text": [
      "[0.8838983050847458, 0.8838983050847458, 0.8838983050847458, 0.8838983050847458]\n"
     ]
    },
    {
     "name": "stderr",
     "output_type": "stream",
     "text": [
      "\r",
      "4it [00:16,  3.68s/it]"
     ]
    },
    {
     "name": "stdout",
     "output_type": "stream",
     "text": [
      "[0.8838983050847458, 0.8838983050847458, 0.8838983050847458, 0.8838983050847458, 0.8846480067854113]\n"
     ]
    },
    {
     "name": "stderr",
     "output_type": "stream",
     "text": [
      "5it [00:19,  3.90s/it]\n"
     ]
    },
    {
     "data": {
      "text/plain": [
       "([0.8838983050847458,\n",
       "  0.8838983050847458,\n",
       "  0.8838983050847458,\n",
       "  0.8838983050847458,\n",
       "  0.8846480067854113],\n",
       " [array([[   0,    2,    0,    0,    0,    0],\n",
       "         [   0, 1043,    0,    0,    0,    0],\n",
       "         [   0,  127,    0,    0,    0,    0],\n",
       "         [   0,    2,    0,    0,    0,    0],\n",
       "         [   0,    3,    0,    0,    0,    0],\n",
       "         [   0,    3,    0,    0,    0,    0]]),\n",
       "  array([[   0,    2,    0,    0,    0,    0],\n",
       "         [   0, 1043,    0,    0,    0,    0],\n",
       "         [   0,  126,    0,    0,    0,    0],\n",
       "         [   0,    3,    0,    0,    0,    0],\n",
       "         [   0,    4,    0,    0,    0,    0],\n",
       "         [   0,    2,    0,    0,    0,    0]]),\n",
       "  array([[   0,    2,    0,    0,    0,    0,    0],\n",
       "         [   0, 1043,    0,    0,    0,    0,    0],\n",
       "         [   0,  126,    0,    0,    0,    0,    0],\n",
       "         [   0,    3,    0,    0,    0,    0,    0],\n",
       "         [   0,    3,    0,    0,    0,    0,    0],\n",
       "         [   0,    1,    0,    0,    0,    0,    0],\n",
       "         [   0,    2,    0,    0,    0,    0,    0]]),\n",
       "  array([[   0,    2,    0,    0,    0,    0,    0],\n",
       "         [   0, 1043,    0,    0,    0,    0,    0],\n",
       "         [   0,  126,    0,    0,    0,    0,    0],\n",
       "         [   0,    3,    0,    0,    0,    0,    0],\n",
       "         [   0,    3,    0,    0,    0,    0,    0],\n",
       "         [   0,    1,    0,    0,    0,    0,    0],\n",
       "         [   0,    2,    0,    0,    0,    0,    0]]),\n",
       "  array([[   0,    2,    0,    0,    0,    0],\n",
       "         [   0, 1043,    0,    0,    0,    0],\n",
       "         [   0,  126,    0,    0,    0,    0],\n",
       "         [   0,    2,    0,    0,    0,    0],\n",
       "         [   0,    3,    0,    0,    0,    0],\n",
       "         [   0,    3,    0,    0,    0,    0]])])"
      ]
     },
     "execution_count": 44,
     "metadata": {},
     "output_type": "execute_result"
    }
   ],
   "source": [
    "model = RandomForestClassifier(n_estimators=1000,max_depth=1000,min_samples_leaf=100,random_state=310)\n",
    "modelvalidation(model,X,y)"
   ]
  },
  {
   "cell_type": "markdown",
   "metadata": {
    "id": "lUV-A5upxIJA"
   },
   "source": [
    "SVM"
   ]
  },
  {
   "cell_type": "code",
   "execution_count": 45,
   "metadata": {
    "colab": {
     "base_uri": "https://localhost:8080/"
    },
    "id": "VeKfSKi6xGq7",
    "outputId": "dd6d1bf1-be21-455a-d5bb-55c2b136398d"
   },
   "outputs": [
    {
     "name": "stderr",
     "output_type": "stream",
     "text": [
      "\r",
      "0it [00:00, ?it/s]"
     ]
    },
    {
     "name": "stdout",
     "output_type": "stream",
     "text": [
      "[0.9610169491525423]\n"
     ]
    },
    {
     "name": "stderr",
     "output_type": "stream",
     "text": [
      "\r",
      "1it [00:05,  5.55s/it]"
     ]
    },
    {
     "name": "stdout",
     "output_type": "stream",
     "text": [
      "[0.9610169491525423, 0.9652542372881356]\n"
     ]
    },
    {
     "name": "stderr",
     "output_type": "stream",
     "text": [
      "\r",
      "2it [00:10,  5.23s/it]"
     ]
    },
    {
     "name": "stdout",
     "output_type": "stream",
     "text": [
      "[0.9610169491525423, 0.9652542372881356, 0.9610169491525423]\n"
     ]
    },
    {
     "name": "stderr",
     "output_type": "stream",
     "text": [
      "\r",
      "3it [00:15,  4.87s/it]"
     ]
    },
    {
     "name": "stdout",
     "output_type": "stream",
     "text": [
      "[0.9610169491525423, 0.9652542372881356, 0.9610169491525423, 0.9542372881355933]\n"
     ]
    },
    {
     "name": "stderr",
     "output_type": "stream",
     "text": [
      "\r",
      "4it [00:19,  4.72s/it]"
     ]
    },
    {
     "name": "stdout",
     "output_type": "stream",
     "text": [
      "[0.9610169491525423, 0.9652542372881356, 0.9610169491525423, 0.9542372881355933, 0.9592875318066157]\n"
     ]
    },
    {
     "name": "stderr",
     "output_type": "stream",
     "text": [
      "5it [00:24,  4.80s/it]\n"
     ]
    },
    {
     "data": {
      "text/plain": [
       "([0.9610169491525423,\n",
       "  0.9652542372881356,\n",
       "  0.9610169491525423,\n",
       "  0.9542372881355933,\n",
       "  0.9592875318066157],\n",
       " [array([[   1,    0,    0,    1,    0,    0],\n",
       "         [   0, 1037,    5,    0,    1,    0],\n",
       "         [   0,   34,   92,    0,    1,    0],\n",
       "         [   0,    0,    0,    2,    0,    0],\n",
       "         [   0,    1,    0,    0,    2,    0],\n",
       "         [   0,    3,    0,    0,    0,    0]]),\n",
       "  array([[   0,    1,    0,    1,    0,    0],\n",
       "         [   0, 1038,    4,    0,    0,    1],\n",
       "         [   0,   30,   96,    0,    0,    0],\n",
       "         [   0,    0,    0,    3,    0,    0],\n",
       "         [   0,    3,    0,    0,    1,    0],\n",
       "         [   0,    1,    0,    0,    0,    1]]),\n",
       "  array([[   1,    0,    0,    1,    0,    0,    0],\n",
       "         [   0, 1036,    6,    0,    1,    0,    0],\n",
       "         [   0,   34,   92,    0,    0,    0,    0],\n",
       "         [   0,    1,    0,    2,    0,    0,    0],\n",
       "         [   0,    0,    0,    1,    2,    0,    0],\n",
       "         [   0,    1,    0,    0,    0,    0,    0],\n",
       "         [   0,    1,    0,    0,    0,    0,    1]]),\n",
       "  array([[   0,    0,    0,    2,    0,    0,    0],\n",
       "         [   0, 1027,   12,    0,    4,    0,    0],\n",
       "         [   0,   33,   93,    0,    0,    0,    0],\n",
       "         [   0,    0,    0,    3,    0,    0,    0],\n",
       "         [   0,    0,    0,    1,    2,    0,    0],\n",
       "         [   0,    0,    1,    0,    0,    0,    0],\n",
       "         [   0,    1,    0,    0,    0,    0,    1]]),\n",
       "  array([[   0,    0,    0,    2,    0,    0],\n",
       "         [   0, 1035,    8,    0,    0,    0],\n",
       "         [   0,   33,   93,    0,    0,    0],\n",
       "         [   0,    0,    0,    1,    1,    0],\n",
       "         [   0,    3,    0,    0,    0,    0],\n",
       "         [   0,    1,    0,    0,    0,    2]])])"
      ]
     },
     "execution_count": 45,
     "metadata": {},
     "output_type": "execute_result"
    }
   ],
   "source": [
    "model = SVC(kernel='poly',degree=3,C=2.0)\n",
    "modelvalidation(model,X,y)"
   ]
  },
  {
   "cell_type": "markdown",
   "metadata": {
    "id": "q5gYHKWEx1MQ"
   },
   "source": [
    "## Concatenating info from Col7 makes no real difference as shown above, lets try Col 5"
   ]
  },
  {
   "cell_type": "code",
   "execution_count": 53,
   "metadata": {
    "id": "HvvUMYQgxTxz"
   },
   "outputs": [],
   "source": [
    "documents = []\n",
    "for i in range(0,len(data)):\n",
    "  text = data[\"Col1\"][i]\n",
    "  text = text +' '+ str(data['Col4'][i])\n",
    "  text = text +' '+ str(data['Col6'][i])\n",
    "  text = text + ' ' + str(data['Col5'][i])\n",
    "  documents.append(text)"
   ]
  },
  {
   "cell_type": "code",
   "execution_count": 54,
   "metadata": {
    "colab": {
     "base_uri": "https://localhost:8080/",
     "height": 35
    },
    "id": "ioboaWa_1Ing",
    "outputId": "8362cbfe-f366-49e6-f32c-4275071e6bcd"
   },
   "outputs": [
    {
     "data": {
      "application/vnd.google.colaboratory.intrinsic+json": {
       "type": "string"
      },
      "text/plain": [
       "'Word6 Word7 Word711 Word773 Word774 Word563 Word366 Word562 8/31/2018'"
      ]
     },
     "execution_count": 54,
     "metadata": {},
     "output_type": "execute_result"
    }
   ],
   "source": [
    "documents[1]"
   ]
  },
  {
   "cell_type": "code",
   "execution_count": 55,
   "metadata": {
    "id": "5XdOAt4D1Jfw"
   },
   "outputs": [],
   "source": [
    "X = tfidf.fit_transform(documents)"
   ]
  },
  {
   "cell_type": "markdown",
   "metadata": {
    "id": "manK2pBz1XIx"
   },
   "source": [
    "Logistic Regression"
   ]
  },
  {
   "cell_type": "code",
   "execution_count": 56,
   "metadata": {
    "colab": {
     "base_uri": "https://localhost:8080/"
    },
    "id": "uNYKox1E1RhF",
    "outputId": "f99305ee-0b9d-4754-a7c4-7d7942f3ae33"
   },
   "outputs": [
    {
     "name": "stderr",
     "output_type": "stream",
     "text": [
      "1it [00:01,  1.23s/it]"
     ]
    },
    {
     "name": "stdout",
     "output_type": "stream",
     "text": [
      "[0.9550847457627119]\n"
     ]
    },
    {
     "name": "stderr",
     "output_type": "stream",
     "text": [
      "\r",
      "2it [00:02,  1.27s/it]"
     ]
    },
    {
     "name": "stdout",
     "output_type": "stream",
     "text": [
      "[0.9550847457627119, 0.9542372881355933]\n"
     ]
    },
    {
     "name": "stderr",
     "output_type": "stream",
     "text": [
      "\r",
      "3it [00:03,  1.29s/it]"
     ]
    },
    {
     "name": "stdout",
     "output_type": "stream",
     "text": [
      "[0.9550847457627119, 0.9542372881355933, 0.9364406779661016]\n"
     ]
    },
    {
     "name": "stderr",
     "output_type": "stream",
     "text": [
      "\r",
      "4it [00:05,  1.40s/it]"
     ]
    },
    {
     "name": "stdout",
     "output_type": "stream",
     "text": [
      "[0.9550847457627119, 0.9542372881355933, 0.9364406779661016, 0.95]\n"
     ]
    },
    {
     "name": "stderr",
     "output_type": "stream",
     "text": [
      "5it [00:06,  1.31s/it]"
     ]
    },
    {
     "name": "stdout",
     "output_type": "stream",
     "text": [
      "[0.9550847457627119, 0.9542372881355933, 0.9364406779661016, 0.95, 0.9457167090754877]\n"
     ]
    },
    {
     "name": "stderr",
     "output_type": "stream",
     "text": [
      "\n"
     ]
    },
    {
     "data": {
      "text/plain": [
       "([0.9550847457627119,\n",
       "  0.9542372881355933,\n",
       "  0.9364406779661016,\n",
       "  0.95,\n",
       "  0.9457167090754877],\n",
       " [array([[   0,    1,    0,    1,    0,    0],\n",
       "         [   0, 1033,   10,    0,    0,    0],\n",
       "         [   0,   35,   92,    0,    0,    0],\n",
       "         [   0,    0,    0,    2,    0,    0],\n",
       "         [   0,    3,    0,    0,    0,    0],\n",
       "         [   0,    3,    0,    0,    0,    0]]),\n",
       "  array([[   0,    1,    0,    1,    0,    0],\n",
       "         [   0, 1034,    9,    0,    0,    0],\n",
       "         [   0,   37,   89,    0,    0,    0],\n",
       "         [   0,    0,    0,    3,    0,    0],\n",
       "         [   0,    4,    0,    0,    0,    0],\n",
       "         [   0,    2,    0,    0,    0,    0]]),\n",
       "  array([[   0,    1,    0,    1,    0,    0,    0],\n",
       "         [   0, 1031,   12,    0,    0,    0,    0],\n",
       "         [   0,   54,   72,    0,    0,    0,    0],\n",
       "         [   0,    1,    0,    2,    0,    0,    0],\n",
       "         [   0,    3,    0,    0,    0,    0,    0],\n",
       "         [   0,    1,    0,    0,    0,    0,    0],\n",
       "         [   0,    2,    0,    0,    0,    0,    0]]),\n",
       "  array([[   0,    0,    0,    2,    0,    0,    0],\n",
       "         [   0, 1026,   17,    0,    0,    0,    0],\n",
       "         [   0,   33,   93,    0,    0,    0,    0],\n",
       "         [   0,    1,    0,    2,    0,    0,    0],\n",
       "         [   0,    3,    0,    0,    0,    0,    0],\n",
       "         [   0,    0,    1,    0,    0,    0,    0],\n",
       "         [   0,    2,    0,    0,    0,    0,    0]]),\n",
       "  array([[   0,    0,    0,    2,    0,    0],\n",
       "         [   0, 1030,   13,    0,    0,    0],\n",
       "         [   0,   42,   84,    0,    0,    0],\n",
       "         [   0,    1,    0,    1,    0,    0],\n",
       "         [   0,    3,    0,    0,    0,    0],\n",
       "         [   0,    3,    0,    0,    0,    0]])])"
      ]
     },
     "execution_count": 56,
     "metadata": {},
     "output_type": "execute_result"
    }
   ],
   "source": [
    "model = LogisticRegression(solver='lbfgs', max_iter=10000)\n",
    "modelvalidation(model,X,y)"
   ]
  },
  {
   "cell_type": "markdown",
   "metadata": {
    "id": "iJ_Q6I2r1cnt"
   },
   "source": [
    "Decision Tree"
   ]
  },
  {
   "cell_type": "code",
   "execution_count": 57,
   "metadata": {
    "colab": {
     "base_uri": "https://localhost:8080/"
    },
    "id": "a3-uHPIV1bqm",
    "outputId": "bbd8731d-7a2e-4502-a886-cb13659aa3c5"
   },
   "outputs": [
    {
     "name": "stderr",
     "output_type": "stream",
     "text": [
      "3it [00:00, 23.21it/s]"
     ]
    },
    {
     "name": "stdout",
     "output_type": "stream",
     "text": [
      "[0.8838983050847458]\n",
      "[0.8838983050847458, 0.8838983050847458]\n",
      "[0.8838983050847458, 0.8838983050847458, 0.8838983050847458]\n",
      "[0.8838983050847458, 0.8838983050847458, 0.8838983050847458, 0.8838983050847458]\n",
      "[0.8838983050847458, 0.8838983050847458, 0.8838983050847458, 0.8838983050847458, 0.8846480067854113]\n"
     ]
    },
    {
     "name": "stderr",
     "output_type": "stream",
     "text": [
      "\r",
      "5it [00:00, 19.96it/s]\n"
     ]
    },
    {
     "data": {
      "text/plain": [
       "([0.8838983050847458,\n",
       "  0.8838983050847458,\n",
       "  0.8838983050847458,\n",
       "  0.8838983050847458,\n",
       "  0.8846480067854113],\n",
       " [array([[   0,    2,    0,    0,    0,    0],\n",
       "         [   0, 1043,    0,    0,    0,    0],\n",
       "         [   0,  127,    0,    0,    0,    0],\n",
       "         [   0,    2,    0,    0,    0,    0],\n",
       "         [   0,    3,    0,    0,    0,    0],\n",
       "         [   0,    3,    0,    0,    0,    0]]),\n",
       "  array([[   0,    2,    0,    0,    0,    0],\n",
       "         [   0, 1043,    0,    0,    0,    0],\n",
       "         [   0,  126,    0,    0,    0,    0],\n",
       "         [   0,    3,    0,    0,    0,    0],\n",
       "         [   0,    4,    0,    0,    0,    0],\n",
       "         [   0,    2,    0,    0,    0,    0]]),\n",
       "  array([[   0,    2,    0,    0,    0,    0,    0],\n",
       "         [   0, 1043,    0,    0,    0,    0,    0],\n",
       "         [   0,  126,    0,    0,    0,    0,    0],\n",
       "         [   0,    3,    0,    0,    0,    0,    0],\n",
       "         [   0,    3,    0,    0,    0,    0,    0],\n",
       "         [   0,    1,    0,    0,    0,    0,    0],\n",
       "         [   0,    2,    0,    0,    0,    0,    0]]),\n",
       "  array([[   0,    2,    0,    0,    0,    0,    0],\n",
       "         [   0, 1043,    0,    0,    0,    0,    0],\n",
       "         [   0,  126,    0,    0,    0,    0,    0],\n",
       "         [   0,    3,    0,    0,    0,    0,    0],\n",
       "         [   0,    3,    0,    0,    0,    0,    0],\n",
       "         [   0,    1,    0,    0,    0,    0,    0],\n",
       "         [   0,    2,    0,    0,    0,    0,    0]]),\n",
       "  array([[   0,    2,    0,    0,    0,    0],\n",
       "         [   0, 1043,    0,    0,    0,    0],\n",
       "         [   0,  126,    0,    0,    0,    0],\n",
       "         [   0,    2,    0,    0,    0,    0],\n",
       "         [   0,    3,    0,    0,    0,    0],\n",
       "         [   0,    3,    0,    0,    0,    0]])])"
      ]
     },
     "execution_count": 57,
     "metadata": {},
     "output_type": "execute_result"
    }
   ],
   "source": [
    "model = DecisionTreeClassifier(max_depth=20,min_samples_leaf=400)\n",
    "modelvalidation(model,X,y)"
   ]
  },
  {
   "cell_type": "markdown",
   "metadata": {
    "id": "D9fyAZbf1mOS"
   },
   "source": [
    "Random Forest"
   ]
  },
  {
   "cell_type": "code",
   "execution_count": 58,
   "metadata": {
    "colab": {
     "base_uri": "https://localhost:8080/"
    },
    "id": "S0RxpZ3I1iHz",
    "outputId": "500a255a-7ed2-4f1e-cb08-5470c14788e4"
   },
   "outputs": [
    {
     "name": "stderr",
     "output_type": "stream",
     "text": [
      "\r",
      "0it [00:00, ?it/s]"
     ]
    },
    {
     "name": "stdout",
     "output_type": "stream",
     "text": [
      "[0.8838983050847458]\n"
     ]
    },
    {
     "name": "stderr",
     "output_type": "stream",
     "text": [
      "\r",
      "1it [00:05,  5.01s/it]"
     ]
    },
    {
     "name": "stdout",
     "output_type": "stream",
     "text": [
      "[0.8838983050847458, 0.8838983050847458]\n"
     ]
    },
    {
     "name": "stderr",
     "output_type": "stream",
     "text": [
      "\r",
      "2it [00:08,  4.37s/it]"
     ]
    },
    {
     "name": "stdout",
     "output_type": "stream",
     "text": [
      "[0.8838983050847458, 0.8838983050847458, 0.8838983050847458]\n"
     ]
    },
    {
     "name": "stderr",
     "output_type": "stream",
     "text": [
      "\r",
      "3it [00:11,  3.76s/it]"
     ]
    },
    {
     "name": "stdout",
     "output_type": "stream",
     "text": [
      "[0.8838983050847458, 0.8838983050847458, 0.8838983050847458, 0.8838983050847458]\n"
     ]
    },
    {
     "name": "stderr",
     "output_type": "stream",
     "text": [
      "\r",
      "4it [00:14,  3.47s/it]"
     ]
    },
    {
     "name": "stdout",
     "output_type": "stream",
     "text": [
      "[0.8838983050847458, 0.8838983050847458, 0.8838983050847458, 0.8838983050847458, 0.8846480067854113]\n"
     ]
    },
    {
     "name": "stderr",
     "output_type": "stream",
     "text": [
      "5it [00:17,  3.60s/it]\n"
     ]
    },
    {
     "data": {
      "text/plain": [
       "([0.8838983050847458,\n",
       "  0.8838983050847458,\n",
       "  0.8838983050847458,\n",
       "  0.8838983050847458,\n",
       "  0.8846480067854113],\n",
       " [array([[   0,    2,    0,    0,    0,    0],\n",
       "         [   0, 1043,    0,    0,    0,    0],\n",
       "         [   0,  127,    0,    0,    0,    0],\n",
       "         [   0,    2,    0,    0,    0,    0],\n",
       "         [   0,    3,    0,    0,    0,    0],\n",
       "         [   0,    3,    0,    0,    0,    0]]),\n",
       "  array([[   0,    2,    0,    0,    0,    0],\n",
       "         [   0, 1043,    0,    0,    0,    0],\n",
       "         [   0,  126,    0,    0,    0,    0],\n",
       "         [   0,    3,    0,    0,    0,    0],\n",
       "         [   0,    4,    0,    0,    0,    0],\n",
       "         [   0,    2,    0,    0,    0,    0]]),\n",
       "  array([[   0,    2,    0,    0,    0,    0,    0],\n",
       "         [   0, 1043,    0,    0,    0,    0,    0],\n",
       "         [   0,  126,    0,    0,    0,    0,    0],\n",
       "         [   0,    3,    0,    0,    0,    0,    0],\n",
       "         [   0,    3,    0,    0,    0,    0,    0],\n",
       "         [   0,    1,    0,    0,    0,    0,    0],\n",
       "         [   0,    2,    0,    0,    0,    0,    0]]),\n",
       "  array([[   0,    2,    0,    0,    0,    0,    0],\n",
       "         [   0, 1043,    0,    0,    0,    0,    0],\n",
       "         [   0,  126,    0,    0,    0,    0,    0],\n",
       "         [   0,    3,    0,    0,    0,    0,    0],\n",
       "         [   0,    3,    0,    0,    0,    0,    0],\n",
       "         [   0,    1,    0,    0,    0,    0,    0],\n",
       "         [   0,    2,    0,    0,    0,    0,    0]]),\n",
       "  array([[   0,    2,    0,    0,    0,    0],\n",
       "         [   0, 1043,    0,    0,    0,    0],\n",
       "         [   0,  126,    0,    0,    0,    0],\n",
       "         [   0,    2,    0,    0,    0,    0],\n",
       "         [   0,    3,    0,    0,    0,    0],\n",
       "         [   0,    3,    0,    0,    0,    0]])])"
      ]
     },
     "execution_count": 58,
     "metadata": {},
     "output_type": "execute_result"
    }
   ],
   "source": [
    "model = RandomForestClassifier(n_estimators=1000,max_depth=1000,min_samples_leaf=100,random_state=310)\n",
    "modelvalidation(model,X,y)"
   ]
  },
  {
   "cell_type": "markdown",
   "metadata": {
    "id": "-tCyVFJl1oiT"
   },
   "source": [
    "SVM"
   ]
  },
  {
   "cell_type": "code",
   "execution_count": 59,
   "metadata": {
    "colab": {
     "base_uri": "https://localhost:8080/"
    },
    "id": "_xc0poxl1nwY",
    "outputId": "51784b12-90c0-42d3-afda-1897f885112a"
   },
   "outputs": [
    {
     "name": "stderr",
     "output_type": "stream",
     "text": [
      "\r",
      "0it [00:00, ?it/s]"
     ]
    },
    {
     "name": "stdout",
     "output_type": "stream",
     "text": [
      "[0.9601694915254237]\n"
     ]
    },
    {
     "name": "stderr",
     "output_type": "stream",
     "text": [
      "\r",
      "1it [00:06,  6.16s/it]"
     ]
    },
    {
     "name": "stdout",
     "output_type": "stream",
     "text": [
      "[0.9601694915254237, 0.9635593220338983]\n"
     ]
    },
    {
     "name": "stderr",
     "output_type": "stream",
     "text": [
      "\r",
      "2it [00:11,  5.55s/it]"
     ]
    },
    {
     "name": "stdout",
     "output_type": "stream",
     "text": [
      "[0.9601694915254237, 0.9635593220338983, 0.9635593220338983]\n"
     ]
    },
    {
     "name": "stderr",
     "output_type": "stream",
     "text": [
      "\r",
      "3it [00:16,  5.58s/it]"
     ]
    },
    {
     "name": "stdout",
     "output_type": "stream",
     "text": [
      "[0.9601694915254237, 0.9635593220338983, 0.9635593220338983, 0.9550847457627119]\n"
     ]
    },
    {
     "name": "stderr",
     "output_type": "stream",
     "text": [
      "\r",
      "4it [00:22,  5.42s/it]"
     ]
    },
    {
     "name": "stdout",
     "output_type": "stream",
     "text": [
      "[0.9601694915254237, 0.9635593220338983, 0.9635593220338983, 0.9550847457627119, 0.9584393553859203]\n"
     ]
    },
    {
     "name": "stderr",
     "output_type": "stream",
     "text": [
      "5it [00:27,  5.43s/it]\n"
     ]
    },
    {
     "data": {
      "text/plain": [
       "([0.9601694915254237,\n",
       "  0.9635593220338983,\n",
       "  0.9635593220338983,\n",
       "  0.9550847457627119,\n",
       "  0.9584393553859203],\n",
       " [array([[   1,    0,    0,    1,    0,    0],\n",
       "         [   0, 1036,    6,    0,    1,    0],\n",
       "         [   0,   34,   92,    0,    1,    0],\n",
       "         [   0,    0,    0,    2,    0,    0],\n",
       "         [   0,    1,    0,    0,    2,    0],\n",
       "         [   0,    3,    0,    0,    0,    0]]),\n",
       "  array([[   0,    1,    0,    1,    0,    0],\n",
       "         [   0, 1035,    7,    0,    0,    1],\n",
       "         [   0,   28,   98,    0,    0,    0],\n",
       "         [   1,    0,    0,    2,    0,    0],\n",
       "         [   0,    3,    0,    0,    1,    0],\n",
       "         [   0,    1,    0,    0,    0,    1]]),\n",
       "  array([[   1,    0,    0,    1,    0,    0,    0],\n",
       "         [   0, 1036,    6,    0,    1,    0,    0],\n",
       "         [   0,   31,   95,    0,    0,    0,    0],\n",
       "         [   0,    1,    0,    2,    0,    0,    0],\n",
       "         [   0,    0,    0,    1,    2,    0,    0],\n",
       "         [   0,    1,    0,    0,    0,    0,    0],\n",
       "         [   0,    1,    0,    0,    0,    0,    1]]),\n",
       "  array([[   0,    0,    0,    2,    0,    0,    0],\n",
       "         [   0, 1030,    9,    0,    4,    0,    0],\n",
       "         [   0,   35,   91,    0,    0,    0,    0],\n",
       "         [   0,    0,    0,    3,    0,    0,    0],\n",
       "         [   0,    0,    0,    1,    2,    0,    0],\n",
       "         [   0,    0,    1,    0,    0,    0,    0],\n",
       "         [   0,    1,    0,    0,    0,    0,    1]]),\n",
       "  array([[   0,    0,    0,    2,    0,    0],\n",
       "         [   0, 1035,    8,    0,    0,    0],\n",
       "         [   0,   34,   92,    0,    0,    0],\n",
       "         [   0,    0,    0,    1,    1,    0],\n",
       "         [   0,    3,    0,    0,    0,    0],\n",
       "         [   0,    1,    0,    0,    0,    2]])])"
      ]
     },
     "execution_count": 59,
     "metadata": {},
     "output_type": "execute_result"
    }
   ],
   "source": [
    "model = SVC(kernel='poly',degree=3,C=2.0)\n",
    "modelvalidation(model,X,y)"
   ]
  },
  {
   "cell_type": "markdown",
   "metadata": {
    "id": "oBEBoMcF1x4I"
   },
   "source": [
    "# As shown above, concatenating Col5 makes no real difference as well, so lets try Col3"
   ]
  },
  {
   "cell_type": "code",
   "execution_count": 61,
   "metadata": {
    "id": "AnwZATBX3lex"
   },
   "outputs": [],
   "source": [
    "documents = []\n",
    "for i in range(0,len(data)):\n",
    "  text = data[\"Col1\"][i]\n",
    "  text = text +' '+ str(data['Col4'][i])\n",
    "  text = text +' '+ str(data['Col6'][i])\n",
    "  text = text + ' ' + str(data['Col3'][i])\n",
    "  documents.append(text)"
   ]
  },
  {
   "cell_type": "code",
   "execution_count": 62,
   "metadata": {
    "colab": {
     "base_uri": "https://localhost:8080/",
     "height": 35
    },
    "id": "8Qzpl5lK3pjR",
    "outputId": "db0b03e6-a656-420e-e5c7-1a08064266f4"
   },
   "outputs": [
    {
     "data": {
      "application/vnd.google.colaboratory.intrinsic+json": {
       "type": "string"
      },
      "text/plain": [
       "'Word6 Word7 Word711 Word773 Word774 Word563 Word366 Word562 1,092.50'"
      ]
     },
     "execution_count": 62,
     "metadata": {},
     "output_type": "execute_result"
    }
   ],
   "source": [
    "documents[1]"
   ]
  },
  {
   "cell_type": "code",
   "execution_count": 63,
   "metadata": {
    "id": "hcsiPEob3r1q"
   },
   "outputs": [],
   "source": [
    "X = tfidf.fit_transform(documents)"
   ]
  },
  {
   "cell_type": "markdown",
   "metadata": {
    "id": "uEPSmTCC4B-F"
   },
   "source": [
    "Logistic Regression"
   ]
  },
  {
   "cell_type": "code",
   "execution_count": 64,
   "metadata": {
    "colab": {
     "base_uri": "https://localhost:8080/"
    },
    "id": "ZYp3Z-l13vpR",
    "outputId": "e9b6d3b6-f298-4fc0-ee66-326d4a7dc99d"
   },
   "outputs": [
    {
     "name": "stderr",
     "output_type": "stream",
     "text": [
      "1it [00:01,  1.40s/it]"
     ]
    },
    {
     "name": "stdout",
     "output_type": "stream",
     "text": [
      "[0.9533898305084746]\n"
     ]
    },
    {
     "name": "stderr",
     "output_type": "stream",
     "text": [
      "\r",
      "2it [00:02,  1.33s/it]"
     ]
    },
    {
     "name": "stdout",
     "output_type": "stream",
     "text": [
      "[0.9533898305084746, 0.9525423728813559]\n"
     ]
    },
    {
     "name": "stderr",
     "output_type": "stream",
     "text": [
      "\r",
      "3it [00:04,  1.46s/it]"
     ]
    },
    {
     "name": "stdout",
     "output_type": "stream",
     "text": [
      "[0.9533898305084746, 0.9525423728813559, 0.9398305084745763]\n"
     ]
    },
    {
     "name": "stderr",
     "output_type": "stream",
     "text": [
      "\r",
      "4it [00:05,  1.38s/it]"
     ]
    },
    {
     "name": "stdout",
     "output_type": "stream",
     "text": [
      "[0.9533898305084746, 0.9525423728813559, 0.9398305084745763, 0.9516949152542373]\n"
     ]
    },
    {
     "name": "stderr",
     "output_type": "stream",
     "text": [
      "5it [00:06,  1.30s/it]"
     ]
    },
    {
     "name": "stdout",
     "output_type": "stream",
     "text": [
      "[0.9533898305084746, 0.9525423728813559, 0.9398305084745763, 0.9516949152542373, 0.9423240033927057]\n"
     ]
    },
    {
     "name": "stderr",
     "output_type": "stream",
     "text": [
      "\n"
     ]
    },
    {
     "data": {
      "text/plain": [
       "([0.9533898305084746,\n",
       "  0.9525423728813559,\n",
       "  0.9398305084745763,\n",
       "  0.9516949152542373,\n",
       "  0.9423240033927057],\n",
       " [array([[   0,    1,    0,    1,    0,    0],\n",
       "         [   0, 1035,    8,    0,    0,    0],\n",
       "         [   0,   39,   88,    0,    0,    0],\n",
       "         [   0,    0,    0,    2,    0,    0],\n",
       "         [   0,    3,    0,    0,    0,    0],\n",
       "         [   0,    3,    0,    0,    0,    0]]),\n",
       "  array([[   0,    1,    0,    1,    0,    0],\n",
       "         [   0, 1034,    9,    0,    0,    0],\n",
       "         [   0,   39,   87,    0,    0,    0],\n",
       "         [   0,    0,    0,    3,    0,    0],\n",
       "         [   0,    4,    0,    0,    0,    0],\n",
       "         [   0,    2,    0,    0,    0,    0]]),\n",
       "  array([[   0,    1,    0,    1,    0,    0,    0],\n",
       "         [   0, 1033,   10,    0,    0,    0,    0],\n",
       "         [   0,   52,   74,    0,    0,    0,    0],\n",
       "         [   0,    1,    0,    2,    0,    0,    0],\n",
       "         [   0,    3,    0,    0,    0,    0,    0],\n",
       "         [   0,    1,    0,    0,    0,    0,    0],\n",
       "         [   0,    2,    0,    0,    0,    0,    0]]),\n",
       "  array([[   0,    0,    0,    2,    0,    0,    0],\n",
       "         [   0, 1033,   10,    0,    0,    0,    0],\n",
       "         [   0,   38,   88,    0,    0,    0,    0],\n",
       "         [   0,    1,    0,    2,    0,    0,    0],\n",
       "         [   0,    3,    0,    0,    0,    0,    0],\n",
       "         [   0,    0,    1,    0,    0,    0,    0],\n",
       "         [   0,    2,    0,    0,    0,    0,    0]]),\n",
       "  array([[   0,    0,    0,    2,    0,    0],\n",
       "         [   0, 1031,   12,    0,    0,    0],\n",
       "         [   0,   47,   79,    0,    0,    0],\n",
       "         [   0,    1,    0,    1,    0,    0],\n",
       "         [   0,    3,    0,    0,    0,    0],\n",
       "         [   0,    3,    0,    0,    0,    0]])])"
      ]
     },
     "execution_count": 64,
     "metadata": {},
     "output_type": "execute_result"
    }
   ],
   "source": [
    "model = LogisticRegression(solver='lbfgs', max_iter=10000)\n",
    "modelvalidation(model,X,y)"
   ]
  },
  {
   "cell_type": "markdown",
   "metadata": {
    "id": "Lhp20qrC4EGC"
   },
   "source": [
    "Decision Tree"
   ]
  },
  {
   "cell_type": "code",
   "execution_count": 65,
   "metadata": {
    "colab": {
     "base_uri": "https://localhost:8080/"
    },
    "id": "WItPStPk4FF8",
    "outputId": "b0704edc-7694-4e8c-f528-abbdecbe56b8"
   },
   "outputs": [
    {
     "name": "stderr",
     "output_type": "stream",
     "text": [
      "2it [00:00, 14.39it/s]"
     ]
    },
    {
     "name": "stdout",
     "output_type": "stream",
     "text": [
      "[0.8838983050847458]\n",
      "[0.8838983050847458, 0.8966101694915254]\n",
      "[0.8838983050847458, 0.8966101694915254, 0.8838983050847458]\n"
     ]
    },
    {
     "name": "stderr",
     "output_type": "stream",
     "text": [
      "5it [00:00, 13.31it/s]"
     ]
    },
    {
     "name": "stdout",
     "output_type": "stream",
     "text": [
      "[0.8838983050847458, 0.8966101694915254, 0.8838983050847458, 0.8966101694915254]\n",
      "[0.8838983050847458, 0.8966101694915254, 0.8838983050847458, 0.8966101694915254, 0.8846480067854113]\n"
     ]
    },
    {
     "name": "stderr",
     "output_type": "stream",
     "text": [
      "\n"
     ]
    },
    {
     "data": {
      "text/plain": [
       "([0.8838983050847458,\n",
       "  0.8966101694915254,\n",
       "  0.8838983050847458,\n",
       "  0.8966101694915254,\n",
       "  0.8846480067854113],\n",
       " [array([[   0,    2,    0,    0,    0,    0],\n",
       "         [   0, 1043,    0,    0,    0,    0],\n",
       "         [   0,  127,    0,    0,    0,    0],\n",
       "         [   0,    2,    0,    0,    0,    0],\n",
       "         [   0,    3,    0,    0,    0,    0],\n",
       "         [   0,    3,    0,    0,    0,    0]]),\n",
       "  array([[  0,   2,   0,   0,   0,   0],\n",
       "         [  0, 989,  54,   0,   0,   0],\n",
       "         [  0,  57,  69,   0,   0,   0],\n",
       "         [  0,   3,   0,   0,   0,   0],\n",
       "         [  0,   4,   0,   0,   0,   0],\n",
       "         [  0,   2,   0,   0,   0,   0]]),\n",
       "  array([[   0,    2,    0,    0,    0,    0,    0],\n",
       "         [   0, 1043,    0,    0,    0,    0,    0],\n",
       "         [   0,  126,    0,    0,    0,    0,    0],\n",
       "         [   0,    3,    0,    0,    0,    0,    0],\n",
       "         [   0,    3,    0,    0,    0,    0,    0],\n",
       "         [   0,    1,    0,    0,    0,    0,    0],\n",
       "         [   0,    2,    0,    0,    0,    0,    0]]),\n",
       "  array([[  0,   2,   0,   0,   0,   0,   0],\n",
       "         [  0, 988,  55,   0,   0,   0,   0],\n",
       "         [  0,  56,  70,   0,   0,   0,   0],\n",
       "         [  0,   3,   0,   0,   0,   0,   0],\n",
       "         [  0,   3,   0,   0,   0,   0,   0],\n",
       "         [  0,   1,   0,   0,   0,   0,   0],\n",
       "         [  0,   2,   0,   0,   0,   0,   0]]),\n",
       "  array([[   0,    2,    0,    0,    0,    0],\n",
       "         [   0, 1043,    0,    0,    0,    0],\n",
       "         [   0,  126,    0,    0,    0,    0],\n",
       "         [   0,    2,    0,    0,    0,    0],\n",
       "         [   0,    3,    0,    0,    0,    0],\n",
       "         [   0,    3,    0,    0,    0,    0]])])"
      ]
     },
     "execution_count": 65,
     "metadata": {},
     "output_type": "execute_result"
    }
   ],
   "source": [
    "model = DecisionTreeClassifier(max_depth=20,min_samples_leaf=400)\n",
    "modelvalidation(model,X,y)"
   ]
  },
  {
   "cell_type": "markdown",
   "metadata": {
    "id": "LmBcKBxw4GH-"
   },
   "source": [
    "Random Forest"
   ]
  },
  {
   "cell_type": "code",
   "execution_count": 66,
   "metadata": {
    "colab": {
     "base_uri": "https://localhost:8080/"
    },
    "id": "3KrwmPpw4HPO",
    "outputId": "456ff9fa-78eb-4d8c-d0b9-40321dfaa05e"
   },
   "outputs": [
    {
     "name": "stderr",
     "output_type": "stream",
     "text": [
      "\r",
      "0it [00:00, ?it/s]"
     ]
    },
    {
     "name": "stdout",
     "output_type": "stream",
     "text": [
      "[0.8838983050847458]\n"
     ]
    },
    {
     "name": "stderr",
     "output_type": "stream",
     "text": [
      "\r",
      "1it [00:04,  4.33s/it]"
     ]
    },
    {
     "name": "stdout",
     "output_type": "stream",
     "text": [
      "[0.8838983050847458, 0.8838983050847458]\n"
     ]
    },
    {
     "name": "stderr",
     "output_type": "stream",
     "text": [
      "\r",
      "2it [00:07,  3.43s/it]"
     ]
    },
    {
     "name": "stdout",
     "output_type": "stream",
     "text": [
      "[0.8838983050847458, 0.8838983050847458, 0.8838983050847458]\n"
     ]
    },
    {
     "name": "stderr",
     "output_type": "stream",
     "text": [
      "\r",
      "3it [00:10,  3.18s/it]"
     ]
    },
    {
     "name": "stdout",
     "output_type": "stream",
     "text": [
      "[0.8838983050847458, 0.8838983050847458, 0.8838983050847458, 0.8838983050847458]\n"
     ]
    },
    {
     "name": "stderr",
     "output_type": "stream",
     "text": [
      "\r",
      "4it [00:12,  3.03s/it]"
     ]
    },
    {
     "name": "stdout",
     "output_type": "stream",
     "text": [
      "[0.8838983050847458, 0.8838983050847458, 0.8838983050847458, 0.8838983050847458, 0.8846480067854113]\n"
     ]
    },
    {
     "name": "stderr",
     "output_type": "stream",
     "text": [
      "5it [00:16,  3.25s/it]\n"
     ]
    },
    {
     "data": {
      "text/plain": [
       "([0.8838983050847458,\n",
       "  0.8838983050847458,\n",
       "  0.8838983050847458,\n",
       "  0.8838983050847458,\n",
       "  0.8846480067854113],\n",
       " [array([[   0,    2,    0,    0,    0,    0],\n",
       "         [   0, 1043,    0,    0,    0,    0],\n",
       "         [   0,  127,    0,    0,    0,    0],\n",
       "         [   0,    2,    0,    0,    0,    0],\n",
       "         [   0,    3,    0,    0,    0,    0],\n",
       "         [   0,    3,    0,    0,    0,    0]]),\n",
       "  array([[   0,    2,    0,    0,    0,    0],\n",
       "         [   0, 1043,    0,    0,    0,    0],\n",
       "         [   0,  126,    0,    0,    0,    0],\n",
       "         [   0,    3,    0,    0,    0,    0],\n",
       "         [   0,    4,    0,    0,    0,    0],\n",
       "         [   0,    2,    0,    0,    0,    0]]),\n",
       "  array([[   0,    2,    0,    0,    0,    0,    0],\n",
       "         [   0, 1043,    0,    0,    0,    0,    0],\n",
       "         [   0,  126,    0,    0,    0,    0,    0],\n",
       "         [   0,    3,    0,    0,    0,    0,    0],\n",
       "         [   0,    3,    0,    0,    0,    0,    0],\n",
       "         [   0,    1,    0,    0,    0,    0,    0],\n",
       "         [   0,    2,    0,    0,    0,    0,    0]]),\n",
       "  array([[   0,    2,    0,    0,    0,    0,    0],\n",
       "         [   0, 1043,    0,    0,    0,    0,    0],\n",
       "         [   0,  126,    0,    0,    0,    0,    0],\n",
       "         [   0,    3,    0,    0,    0,    0,    0],\n",
       "         [   0,    3,    0,    0,    0,    0,    0],\n",
       "         [   0,    1,    0,    0,    0,    0,    0],\n",
       "         [   0,    2,    0,    0,    0,    0,    0]]),\n",
       "  array([[   0,    2,    0,    0,    0,    0],\n",
       "         [   0, 1043,    0,    0,    0,    0],\n",
       "         [   0,  126,    0,    0,    0,    0],\n",
       "         [   0,    2,    0,    0,    0,    0],\n",
       "         [   0,    3,    0,    0,    0,    0],\n",
       "         [   0,    3,    0,    0,    0,    0]])])"
      ]
     },
     "execution_count": 66,
     "metadata": {},
     "output_type": "execute_result"
    }
   ],
   "source": [
    "model = RandomForestClassifier(n_estimators=1000,max_depth=1000,min_samples_leaf=100,random_state=310)\n",
    "modelvalidation(model,X,y)"
   ]
  },
  {
   "cell_type": "markdown",
   "metadata": {
    "id": "9sTSg6SF4Huo"
   },
   "source": [
    "SVM"
   ]
  },
  {
   "cell_type": "code",
   "execution_count": 67,
   "metadata": {
    "colab": {
     "base_uri": "https://localhost:8080/"
    },
    "id": "CNgAciSW4IIi",
    "outputId": "c379e7d4-c63a-4538-8925-e2109a16ab20"
   },
   "outputs": [
    {
     "name": "stderr",
     "output_type": "stream",
     "text": [
      "\r",
      "0it [00:00, ?it/s]"
     ]
    },
    {
     "name": "stdout",
     "output_type": "stream",
     "text": [
      "[0.9584745762711865]\n"
     ]
    },
    {
     "name": "stderr",
     "output_type": "stream",
     "text": [
      "\r",
      "1it [00:11, 11.10s/it]"
     ]
    },
    {
     "name": "stdout",
     "output_type": "stream",
     "text": [
      "[0.9584745762711865, 0.961864406779661]\n"
     ]
    },
    {
     "name": "stderr",
     "output_type": "stream",
     "text": [
      "\r",
      "2it [00:20,  9.87s/it]"
     ]
    },
    {
     "name": "stdout",
     "output_type": "stream",
     "text": [
      "[0.9584745762711865, 0.961864406779661, 0.9593220338983051]\n"
     ]
    },
    {
     "name": "stderr",
     "output_type": "stream",
     "text": [
      "\r",
      "3it [00:29,  9.46s/it]"
     ]
    },
    {
     "name": "stdout",
     "output_type": "stream",
     "text": [
      "[0.9584745762711865, 0.961864406779661, 0.9593220338983051, 0.9559322033898305]\n"
     ]
    },
    {
     "name": "stderr",
     "output_type": "stream",
     "text": [
      "\r",
      "4it [00:38,  9.45s/it]"
     ]
    },
    {
     "name": "stdout",
     "output_type": "stream",
     "text": [
      "[0.9584745762711865, 0.961864406779661, 0.9593220338983051, 0.9559322033898305, 0.9516539440203562]\n"
     ]
    },
    {
     "name": "stderr",
     "output_type": "stream",
     "text": [
      "5it [00:47,  9.53s/it]\n"
     ]
    },
    {
     "data": {
      "text/plain": [
       "([0.9584745762711865,\n",
       "  0.961864406779661,\n",
       "  0.9593220338983051,\n",
       "  0.9559322033898305,\n",
       "  0.9516539440203562],\n",
       " [array([[   0,    1,    0,    1,    0,    0],\n",
       "         [   0, 1040,    3,    0,    0,    0],\n",
       "         [   0,   38,   89,    0,    0,    0],\n",
       "         [   0,    0,    0,    2,    0,    0],\n",
       "         [   0,    3,    0,    0,    0,    0],\n",
       "         [   0,    3,    0,    0,    0,    0]]),\n",
       "  array([[   0,    1,    0,    1,    0,    0],\n",
       "         [   0, 1039,    4,    0,    0,    0],\n",
       "         [   0,   34,   92,    0,    0,    0],\n",
       "         [   0,    0,    0,    3,    0,    0],\n",
       "         [   0,    4,    0,    0,    0,    0],\n",
       "         [   0,    1,    0,    0,    0,    1]]),\n",
       "  array([[   0,    1,    0,    1,    0,    0,    0],\n",
       "         [   0, 1040,    3,    0,    0,    0,    0],\n",
       "         [   0,   38,   88,    0,    0,    0,    0],\n",
       "         [   0,    1,    0,    2,    0,    0,    0],\n",
       "         [   0,    0,    0,    1,    2,    0,    0],\n",
       "         [   0,    1,    0,    0,    0,    0,    0],\n",
       "         [   0,    2,    0,    0,    0,    0,    0]]),\n",
       "  array([[   0,    0,    0,    2,    0,    0,    0],\n",
       "         [   0, 1033,    9,    0,    1,    0,    0],\n",
       "         [   0,   36,   90,    0,    0,    0,    0],\n",
       "         [   0,    0,    0,    3,    0,    0,    0],\n",
       "         [   0,    1,    0,    1,    1,    0,    0],\n",
       "         [   0,    1,    0,    0,    0,    0,    0],\n",
       "         [   0,    1,    0,    0,    0,    0,    1]]),\n",
       "  array([[   0,    0,    0,    2,    0,    0],\n",
       "         [   0, 1037,    6,    0,    0,    0],\n",
       "         [   0,   43,   83,    0,    0,    0],\n",
       "         [   0,    0,    0,    1,    1,    0],\n",
       "         [   0,    3,    0,    0,    0,    0],\n",
       "         [   0,    2,    0,    0,    0,    1]])])"
      ]
     },
     "execution_count": 67,
     "metadata": {},
     "output_type": "execute_result"
    }
   ],
   "source": [
    "model = SVC(kernel='poly',degree=3,C=2.0)\n",
    "modelvalidation(model,X,y)"
   ]
  },
  {
   "cell_type": "markdown",
   "metadata": {
    "id": "e0ZknzAk4obb"
   },
   "source": [
    "# Again, Col3 makes no real difference in classification accuracy. Finally, we will try Col2"
   ]
  },
  {
   "cell_type": "code",
   "execution_count": 70,
   "metadata": {
    "id": "HGdCVSg74awP"
   },
   "outputs": [],
   "source": [
    "documents = []\n",
    "for i in range(0,len(data)):\n",
    "  text = data[\"Col1\"][i]\n",
    "  text = text +' '+ str(data['Col4'][i])\n",
    "  text = text +' '+ str(data['Col6'][i])\n",
    "  text = text + ' ' + str(data['Col2'][i])\n",
    "  documents.append(text)"
   ]
  },
  {
   "cell_type": "code",
   "execution_count": 71,
   "metadata": {
    "colab": {
     "base_uri": "https://localhost:8080/",
     "height": 35
    },
    "id": "D-o30n4R5WMe",
    "outputId": "895a78d6-b9cb-4ada-b65b-9df88d2a35cb"
   },
   "outputs": [
    {
     "data": {
      "application/vnd.google.colaboratory.intrinsic+json": {
       "type": "string"
      },
      "text/plain": [
       "'Word6 Word7 Word711 Word773 Word774 Word563 Word366 Word562 10719'"
      ]
     },
     "execution_count": 71,
     "metadata": {},
     "output_type": "execute_result"
    }
   ],
   "source": [
    "documents[1]"
   ]
  },
  {
   "cell_type": "code",
   "execution_count": 72,
   "metadata": {
    "id": "AciicJFt5XrK"
   },
   "outputs": [],
   "source": [
    "X = tfidf.fit_transform(documents)"
   ]
  },
  {
   "cell_type": "markdown",
   "metadata": {
    "id": "YIpH20P95ceS"
   },
   "source": [
    "Logistic Regression"
   ]
  },
  {
   "cell_type": "code",
   "execution_count": 73,
   "metadata": {
    "colab": {
     "base_uri": "https://localhost:8080/"
    },
    "id": "qRCNQ6cy5cAf",
    "outputId": "c6c7861e-f38f-4e95-a244-41e457a3eb52"
   },
   "outputs": [
    {
     "name": "stderr",
     "output_type": "stream",
     "text": [
      "1it [00:02,  2.75s/it]"
     ]
    },
    {
     "name": "stdout",
     "output_type": "stream",
     "text": [
      "[0.9508474576271186]\n"
     ]
    },
    {
     "name": "stderr",
     "output_type": "stream",
     "text": [
      "\r",
      "2it [00:05,  2.67s/it]"
     ]
    },
    {
     "name": "stdout",
     "output_type": "stream",
     "text": [
      "[0.9508474576271186, 0.9483050847457627]\n"
     ]
    },
    {
     "name": "stderr",
     "output_type": "stream",
     "text": [
      "\r",
      "3it [00:07,  2.53s/it]"
     ]
    },
    {
     "name": "stdout",
     "output_type": "stream",
     "text": [
      "[0.9508474576271186, 0.9483050847457627, 0.9364406779661016]\n"
     ]
    },
    {
     "name": "stderr",
     "output_type": "stream",
     "text": [
      "\r",
      "4it [00:09,  2.40s/it]"
     ]
    },
    {
     "name": "stdout",
     "output_type": "stream",
     "text": [
      "[0.9508474576271186, 0.9483050847457627, 0.9364406779661016, 0.9533898305084746]\n"
     ]
    },
    {
     "name": "stderr",
     "output_type": "stream",
     "text": [
      "5it [00:12,  2.50s/it]"
     ]
    },
    {
     "name": "stdout",
     "output_type": "stream",
     "text": [
      "[0.9508474576271186, 0.9483050847457627, 0.9364406779661016, 0.9533898305084746, 0.9397794741306191]\n"
     ]
    },
    {
     "name": "stderr",
     "output_type": "stream",
     "text": [
      "\n"
     ]
    },
    {
     "data": {
      "text/plain": [
       "([0.9508474576271186,\n",
       "  0.9483050847457627,\n",
       "  0.9364406779661016,\n",
       "  0.9533898305084746,\n",
       "  0.9397794741306191],\n",
       " [array([[   0,    2,    0,    0,    0,    0],\n",
       "         [   0, 1037,    6,    0,    0,    0],\n",
       "         [   0,   42,   85,    0,    0,    0],\n",
       "         [   0,    2,    0,    0,    0,    0],\n",
       "         [   0,    3,    0,    0,    0,    0],\n",
       "         [   0,    3,    0,    0,    0,    0]]),\n",
       "  array([[   0,    2,    0,    0,    0,    0],\n",
       "         [   0, 1034,    9,    0,    0,    0],\n",
       "         [   0,   41,   85,    0,    0,    0],\n",
       "         [   0,    3,    0,    0,    0,    0],\n",
       "         [   0,    4,    0,    0,    0,    0],\n",
       "         [   0,    2,    0,    0,    0,    0]]),\n",
       "  array([[   0,    2,    0,    0,    0,    0,    0],\n",
       "         [   0, 1032,   11,    0,    0,    0,    0],\n",
       "         [   0,   53,   73,    0,    0,    0,    0],\n",
       "         [   0,    3,    0,    0,    0,    0,    0],\n",
       "         [   0,    3,    0,    0,    0,    0,    0],\n",
       "         [   0,    1,    0,    0,    0,    0,    0],\n",
       "         [   0,    2,    0,    0,    0,    0,    0]]),\n",
       "  array([[   0,    2,    0,    0,    0,    0,    0],\n",
       "         [   0, 1037,    6,    0,    0,    0,    0],\n",
       "         [   0,   38,   88,    0,    0,    0,    0],\n",
       "         [   0,    3,    0,    0,    0,    0,    0],\n",
       "         [   0,    3,    0,    0,    0,    0,    0],\n",
       "         [   0,    0,    1,    0,    0,    0,    0],\n",
       "         [   0,    2,    0,    0,    0,    0,    0]]),\n",
       "  array([[   0,    2,    0,    0,    0,    0],\n",
       "         [   0, 1028,   15,    0,    0,    0],\n",
       "         [   0,   46,   80,    0,    0,    0],\n",
       "         [   0,    2,    0,    0,    0,    0],\n",
       "         [   0,    3,    0,    0,    0,    0],\n",
       "         [   0,    3,    0,    0,    0,    0]])])"
      ]
     },
     "execution_count": 73,
     "metadata": {},
     "output_type": "execute_result"
    }
   ],
   "source": [
    "model = LogisticRegression(solver='lbfgs', max_iter=10000)\n",
    "modelvalidation(model,X,y)"
   ]
  },
  {
   "cell_type": "markdown",
   "metadata": {
    "id": "fjTI4Oxk5e6-"
   },
   "source": [
    "Decision Tree"
   ]
  },
  {
   "cell_type": "code",
   "execution_count": 74,
   "metadata": {
    "colab": {
     "base_uri": "https://localhost:8080/"
    },
    "id": "DE062-AW5gGJ",
    "outputId": "3f95b866-946a-4137-ff3f-9459e1d9ad82"
   },
   "outputs": [
    {
     "name": "stderr",
     "output_type": "stream",
     "text": [
      "2it [00:00,  8.86it/s]"
     ]
    },
    {
     "name": "stdout",
     "output_type": "stream",
     "text": [
      "[0.8838983050847458]\n",
      "[0.8838983050847458, 0.8838983050847458]\n"
     ]
    },
    {
     "name": "stderr",
     "output_type": "stream",
     "text": [
      "\r",
      "3it [00:00,  9.31it/s]"
     ]
    },
    {
     "name": "stdout",
     "output_type": "stream",
     "text": [
      "[0.8838983050847458, 0.8838983050847458, 0.8838983050847458]\n",
      "[0.8838983050847458, 0.8838983050847458, 0.8838983050847458, 0.8838983050847458]\n",
      "[0.8838983050847458, 0.8838983050847458, 0.8838983050847458, 0.8838983050847458, 0.8846480067854113]\n"
     ]
    },
    {
     "name": "stderr",
     "output_type": "stream",
     "text": [
      "5it [00:00,  9.42it/s]\n"
     ]
    },
    {
     "data": {
      "text/plain": [
       "([0.8838983050847458,\n",
       "  0.8838983050847458,\n",
       "  0.8838983050847458,\n",
       "  0.8838983050847458,\n",
       "  0.8846480067854113],\n",
       " [array([[   0,    2,    0,    0,    0,    0],\n",
       "         [   0, 1043,    0,    0,    0,    0],\n",
       "         [   0,  127,    0,    0,    0,    0],\n",
       "         [   0,    2,    0,    0,    0,    0],\n",
       "         [   0,    3,    0,    0,    0,    0],\n",
       "         [   0,    3,    0,    0,    0,    0]]),\n",
       "  array([[   0,    2,    0,    0,    0,    0],\n",
       "         [   0, 1043,    0,    0,    0,    0],\n",
       "         [   0,  126,    0,    0,    0,    0],\n",
       "         [   0,    3,    0,    0,    0,    0],\n",
       "         [   0,    4,    0,    0,    0,    0],\n",
       "         [   0,    2,    0,    0,    0,    0]]),\n",
       "  array([[   0,    2,    0,    0,    0,    0,    0],\n",
       "         [   0, 1043,    0,    0,    0,    0,    0],\n",
       "         [   0,  126,    0,    0,    0,    0,    0],\n",
       "         [   0,    3,    0,    0,    0,    0,    0],\n",
       "         [   0,    3,    0,    0,    0,    0,    0],\n",
       "         [   0,    1,    0,    0,    0,    0,    0],\n",
       "         [   0,    2,    0,    0,    0,    0,    0]]),\n",
       "  array([[   0,    2,    0,    0,    0,    0,    0],\n",
       "         [   0, 1043,    0,    0,    0,    0,    0],\n",
       "         [   0,  126,    0,    0,    0,    0,    0],\n",
       "         [   0,    3,    0,    0,    0,    0,    0],\n",
       "         [   0,    3,    0,    0,    0,    0,    0],\n",
       "         [   0,    1,    0,    0,    0,    0,    0],\n",
       "         [   0,    2,    0,    0,    0,    0,    0]]),\n",
       "  array([[   0,    2,    0,    0,    0,    0],\n",
       "         [   0, 1043,    0,    0,    0,    0],\n",
       "         [   0,  126,    0,    0,    0,    0],\n",
       "         [   0,    2,    0,    0,    0,    0],\n",
       "         [   0,    3,    0,    0,    0,    0],\n",
       "         [   0,    3,    0,    0,    0,    0]])])"
      ]
     },
     "execution_count": 74,
     "metadata": {},
     "output_type": "execute_result"
    }
   ],
   "source": [
    "model = DecisionTreeClassifier(max_depth=20,min_samples_leaf=400)\n",
    "modelvalidation(model,X,y)"
   ]
  },
  {
   "cell_type": "markdown",
   "metadata": {
    "id": "SZHzQTTJ5gkN"
   },
   "source": [
    "Random Forest"
   ]
  },
  {
   "cell_type": "code",
   "execution_count": 75,
   "metadata": {
    "colab": {
     "base_uri": "https://localhost:8080/"
    },
    "id": "NhsKoHS95h_X",
    "outputId": "3f8f6d21-0530-435e-bab7-15c3e5ba5ad6"
   },
   "outputs": [
    {
     "name": "stderr",
     "output_type": "stream",
     "text": [
      "\r",
      "0it [00:00, ?it/s]"
     ]
    },
    {
     "name": "stdout",
     "output_type": "stream",
     "text": [
      "[0.8838983050847458]\n"
     ]
    },
    {
     "name": "stderr",
     "output_type": "stream",
     "text": [
      "\r",
      "1it [00:04,  4.84s/it]"
     ]
    },
    {
     "name": "stdout",
     "output_type": "stream",
     "text": [
      "[0.8838983050847458, 0.8838983050847458]\n"
     ]
    },
    {
     "name": "stderr",
     "output_type": "stream",
     "text": [
      "\r",
      "2it [00:07,  3.68s/it]"
     ]
    },
    {
     "name": "stdout",
     "output_type": "stream",
     "text": [
      "[0.8838983050847458, 0.8838983050847458, 0.8838983050847458]\n"
     ]
    },
    {
     "name": "stderr",
     "output_type": "stream",
     "text": [
      "\r",
      "3it [00:10,  3.29s/it]"
     ]
    },
    {
     "name": "stdout",
     "output_type": "stream",
     "text": [
      "[0.8838983050847458, 0.8838983050847458, 0.8838983050847458, 0.8838983050847458]\n"
     ]
    },
    {
     "name": "stderr",
     "output_type": "stream",
     "text": [
      "\r",
      "4it [00:13,  3.13s/it]"
     ]
    },
    {
     "name": "stdout",
     "output_type": "stream",
     "text": [
      "[0.8838983050847458, 0.8838983050847458, 0.8838983050847458, 0.8838983050847458, 0.8846480067854113]\n"
     ]
    },
    {
     "name": "stderr",
     "output_type": "stream",
     "text": [
      "5it [00:16,  3.26s/it]\n"
     ]
    },
    {
     "data": {
      "text/plain": [
       "([0.8838983050847458,\n",
       "  0.8838983050847458,\n",
       "  0.8838983050847458,\n",
       "  0.8838983050847458,\n",
       "  0.8846480067854113],\n",
       " [array([[   0,    2,    0,    0,    0,    0],\n",
       "         [   0, 1043,    0,    0,    0,    0],\n",
       "         [   0,  127,    0,    0,    0,    0],\n",
       "         [   0,    2,    0,    0,    0,    0],\n",
       "         [   0,    3,    0,    0,    0,    0],\n",
       "         [   0,    3,    0,    0,    0,    0]]),\n",
       "  array([[   0,    2,    0,    0,    0,    0],\n",
       "         [   0, 1043,    0,    0,    0,    0],\n",
       "         [   0,  126,    0,    0,    0,    0],\n",
       "         [   0,    3,    0,    0,    0,    0],\n",
       "         [   0,    4,    0,    0,    0,    0],\n",
       "         [   0,    2,    0,    0,    0,    0]]),\n",
       "  array([[   0,    2,    0,    0,    0,    0,    0],\n",
       "         [   0, 1043,    0,    0,    0,    0,    0],\n",
       "         [   0,  126,    0,    0,    0,    0,    0],\n",
       "         [   0,    3,    0,    0,    0,    0,    0],\n",
       "         [   0,    3,    0,    0,    0,    0,    0],\n",
       "         [   0,    1,    0,    0,    0,    0,    0],\n",
       "         [   0,    2,    0,    0,    0,    0,    0]]),\n",
       "  array([[   0,    2,    0,    0,    0,    0,    0],\n",
       "         [   0, 1043,    0,    0,    0,    0,    0],\n",
       "         [   0,  126,    0,    0,    0,    0,    0],\n",
       "         [   0,    3,    0,    0,    0,    0,    0],\n",
       "         [   0,    3,    0,    0,    0,    0,    0],\n",
       "         [   0,    1,    0,    0,    0,    0,    0],\n",
       "         [   0,    2,    0,    0,    0,    0,    0]]),\n",
       "  array([[   0,    2,    0,    0,    0,    0],\n",
       "         [   0, 1043,    0,    0,    0,    0],\n",
       "         [   0,  126,    0,    0,    0,    0],\n",
       "         [   0,    2,    0,    0,    0,    0],\n",
       "         [   0,    3,    0,    0,    0,    0],\n",
       "         [   0,    3,    0,    0,    0,    0]])])"
      ]
     },
     "execution_count": 75,
     "metadata": {},
     "output_type": "execute_result"
    }
   ],
   "source": [
    "model = RandomForestClassifier(n_estimators=1000,max_depth=1000,min_samples_leaf=100,random_state=310)\n",
    "modelvalidation(model,X,y)"
   ]
  },
  {
   "cell_type": "markdown",
   "metadata": {
    "id": "ITZuX8sf5iZ8"
   },
   "source": [
    "SVM"
   ]
  },
  {
   "cell_type": "code",
   "execution_count": 76,
   "metadata": {
    "colab": {
     "base_uri": "https://localhost:8080/"
    },
    "id": "udizfJRt5i3y",
    "outputId": "d80fbc21-eafb-47dc-fffc-b07a14a5bbbf"
   },
   "outputs": [
    {
     "name": "stderr",
     "output_type": "stream",
     "text": [
      "\r",
      "0it [00:00, ?it/s]"
     ]
    },
    {
     "name": "stdout",
     "output_type": "stream",
     "text": [
      "[0.9576271186440678]\n"
     ]
    },
    {
     "name": "stderr",
     "output_type": "stream",
     "text": [
      "\r",
      "1it [00:12, 12.53s/it]"
     ]
    },
    {
     "name": "stdout",
     "output_type": "stream",
     "text": [
      "[0.9576271186440678, 0.9593220338983051]\n"
     ]
    },
    {
     "name": "stderr",
     "output_type": "stream",
     "text": [
      "\r",
      "2it [00:22, 11.09s/it]"
     ]
    },
    {
     "name": "stdout",
     "output_type": "stream",
     "text": [
      "[0.9576271186440678, 0.9593220338983051, 0.9584745762711865]\n"
     ]
    },
    {
     "name": "stderr",
     "output_type": "stream",
     "text": [
      "\r",
      "3it [00:32, 10.35s/it]"
     ]
    },
    {
     "name": "stdout",
     "output_type": "stream",
     "text": [
      "[0.9576271186440678, 0.9593220338983051, 0.9584745762711865, 0.9542372881355933]\n"
     ]
    },
    {
     "name": "stderr",
     "output_type": "stream",
     "text": [
      "\r",
      "4it [00:43, 10.62s/it]"
     ]
    },
    {
     "name": "stdout",
     "output_type": "stream",
     "text": [
      "[0.9576271186440678, 0.9593220338983051, 0.9584745762711865, 0.9542372881355933, 0.9516539440203562]\n"
     ]
    },
    {
     "name": "stderr",
     "output_type": "stream",
     "text": [
      "5it [00:52, 10.58s/it]\n"
     ]
    },
    {
     "data": {
      "text/plain": [
       "([0.9576271186440678,\n",
       "  0.9593220338983051,\n",
       "  0.9584745762711865,\n",
       "  0.9542372881355933,\n",
       "  0.9516539440203562],\n",
       " [array([[   0,    1,    0,    1,    0,    0],\n",
       "         [   0, 1039,    4,    0,    0,    0],\n",
       "         [   0,   37,   89,    0,    1,    0],\n",
       "         [   0,    0,    0,    2,    0,    0],\n",
       "         [   0,    3,    0,    0,    0,    0],\n",
       "         [   0,    3,    0,    0,    0,    0]]),\n",
       "  array([[   0,    1,    0,    1,    0,    0],\n",
       "         [   0, 1040,    3,    0,    0,    0],\n",
       "         [   0,   37,   89,    0,    0,    0],\n",
       "         [   1,    0,    0,    2,    0,    0],\n",
       "         [   0,    3,    1,    0,    0,    0],\n",
       "         [   0,    1,    0,    0,    0,    1]]),\n",
       "  array([[   0,    1,    0,    1,    0,    0,    0],\n",
       "         [   0, 1039,    3,    0,    1,    0,    0],\n",
       "         [   0,   39,   87,    0,    0,    0,    0],\n",
       "         [   0,    1,    0,    2,    0,    0,    0],\n",
       "         [   0,    1,    0,    0,    2,    0,    0],\n",
       "         [   0,    1,    0,    0,    0,    0,    0],\n",
       "         [   0,    1,    0,    0,    0,    0,    1]]),\n",
       "  array([[   0,    0,    0,    2,    0,    0,    0],\n",
       "         [   0, 1036,    7,    0,    0,    0,    0],\n",
       "         [   0,   41,   85,    0,    0,    0,    0],\n",
       "         [   0,    0,    0,    3,    0,    0,    0],\n",
       "         [   0,    1,    0,    1,    1,    0,    0],\n",
       "         [   0,    1,    0,    0,    0,    0,    0],\n",
       "         [   0,    1,    0,    0,    0,    0,    1]]),\n",
       "  array([[   0,    0,    0,    2,    0,    0],\n",
       "         [   0, 1040,    3,    0,    0,    0],\n",
       "         [   0,   47,   79,    0,    0,    0],\n",
       "         [   0,    1,    0,    1,    0,    0],\n",
       "         [   0,    3,    0,    0,    0,    0],\n",
       "         [   0,    1,    0,    0,    0,    2]])])"
      ]
     },
     "execution_count": 76,
     "metadata": {},
     "output_type": "execute_result"
    }
   ],
   "source": [
    "model = SVC(kernel='poly',degree=3,C=2.0)\n",
    "modelvalidation(model,X,y)"
   ]
  },
  {
   "cell_type": "markdown",
   "metadata": {
    "id": "yu7uwan06I2v"
   },
   "source": [
    "# Again, Col2 makes no real difference in classification accuracy"
   ]
  },
  {
   "cell_type": "markdown",
   "metadata": {
    "id": "6lNlG8U06QHD"
   },
   "source": [
    "# The best model is SVM with the text from Col1, Col4, and Col6 as it is the most accurate (mean accuracy $\\geq$ 0.96) without having unneccesary information in the classification"
   ]
  },
  {
   "cell_type": "code",
   "execution_count": null,
   "metadata": {},
   "outputs": [],
   "source": []
  }
 ],
 "metadata": {
  "colab": {
   "name": "Project_4.ipynb",
   "provenance": []
  },
  "kernelspec": {
   "display_name": "Python 3",
   "language": "python",
   "name": "python3"
  },
  "language_info": {
   "codemirror_mode": {
    "name": "ipython",
    "version": 3
   },
   "file_extension": ".py",
   "mimetype": "text/x-python",
   "name": "python",
   "nbconvert_exporter": "python",
   "pygments_lexer": "ipython3",
   "version": "3.8.3"
  }
 },
 "nbformat": 4,
 "nbformat_minor": 1
}
